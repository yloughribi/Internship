{
 "cells": [
  {
   "cell_type": "markdown",
   "metadata": {},
   "source": [
    "## Loading Packages and Tables"
   ]
  },
  {
   "cell_type": "code",
   "execution_count": 59,
   "metadata": {
    "executionInfo": {
     "elapsed": 7,
     "status": "ok",
     "timestamp": 1746101559479,
     "user": {
      "displayName": "Yahya Loughribi",
      "userId": "15992529283825579695"
     },
     "user_tz": -120
    },
    "id": "Ow-n67aOxp6A"
   },
   "outputs": [],
   "source": [
    "import pandas as pd\n",
    "import matplotlib.pyplot as plt\n",
    "import seaborn as sb\n",
    "import dask.dataframe as dd\n",
    "import streamlit as st"
   ]
  },
  {
   "cell_type": "code",
   "execution_count": 170,
   "metadata": {
    "executionInfo": {
     "elapsed": 4813,
     "status": "ok",
     "timestamp": 1746101565678,
     "user": {
      "displayName": "Yahya Loughribi",
      "userId": "15992529283825579695"
     },
     "user_tz": -120
    },
    "id": "2c59Wt-qkoWU"
   },
   "outputs": [],
   "source": [
    "diag = pd.read_csv('C:\\\\Users\\\\yahya\\\\Documents\\\\GitHub\\\\Internship\\\\CSV_files\\\\diagnoses_table.csv', dtype={\"icd_code\": \"object\"})\n"
   ]
  },
  {
   "cell_type": "code",
   "execution_count": 171,
   "metadata": {},
   "outputs": [],
   "source": [
    "def detect_icd_version(code):\n",
    "    code = str(code).strip().upper()\n",
    "    return 10 if code and code[0].isalpha() else 9\n",
    "\n",
    "# Apply to your DataFrame\n",
    "diag['icd_version'] = diag['icd_code'].apply(detect_icd_version)"
   ]
  },
  {
   "cell_type": "code",
   "execution_count": 172,
   "metadata": {
    "executionInfo": {
     "elapsed": 9423,
     "status": "ok",
     "timestamp": 1746102120689,
     "user": {
      "displayName": "Yahya Loughribi",
      "userId": "15992529283825579695"
     },
     "user_tz": -120
    },
    "id": "zb1jCQ_5yzpu"
   },
   "outputs": [],
   "source": [
    "admission = pd.read_csv('C:\\\\Users\\\\Yahya\\\\Documents\\\\GitHub\\\\Internship\\\\CSV_files\\\\admissions_table.csv')"
   ]
  },
  {
   "cell_type": "code",
   "execution_count": 173,
   "metadata": {
    "id": "AGsc0I3AzA3j"
   },
   "outputs": [],
   "source": [
    "diag_adm_table = diag.merge(admission, on=['subject_id', 'hadm_id'])\n",
    "diag_adm_table = diag_adm_table.sort_values(by=\"subject_id\")\n",
    "diag_adm_table = diag_adm_table.reset_index(drop=True)"
   ]
  },
  {
   "cell_type": "code",
   "execution_count": 174,
   "metadata": {},
   "outputs": [
    {
     "data": {
      "text/plain": [
       "(5071195, 6)"
      ]
     },
     "execution_count": 174,
     "metadata": {},
     "output_type": "execute_result"
    }
   ],
   "source": [
    "diag_adm_table.shape"
   ]
  },
  {
   "cell_type": "markdown",
   "metadata": {},
   "source": [
    "## Selecting CML patients"
   ]
  },
  {
   "cell_type": "code",
   "execution_count": 175,
   "metadata": {},
   "outputs": [],
   "source": [
    "icd9 = diag[diag['icd_code'].str.match(r'^\\d')]\n",
    "filtered_icd9 = icd9[(icd9['icd_code'].astype(float) >= 20510) & (icd9['icd_code'].astype(float) <= 20512)]"
   ]
  },
  {
   "cell_type": "code",
   "execution_count": 176,
   "metadata": {},
   "outputs": [
    {
     "data": {
      "text/plain": [
       "20510    260\n",
       "20511     67\n",
       "20512     10\n",
       "Name: icd_code, dtype: int64"
      ]
     },
     "execution_count": 176,
     "metadata": {},
     "output_type": "execute_result"
    }
   ],
   "source": [
    "filtered_icd9['icd_code'].value_counts()"
   ]
  },
  {
   "cell_type": "code",
   "execution_count": 178,
   "metadata": {},
   "outputs": [
    {
     "data": {
      "text/plain": [
       "(337, 4)"
      ]
     },
     "execution_count": 178,
     "metadata": {},
     "output_type": "execute_result"
    }
   ],
   "source": [
    "filtered_icd9.shape"
   ]
  },
  {
   "cell_type": "code",
   "execution_count": 179,
   "metadata": {},
   "outputs": [
    {
     "data": {
      "text/plain": [
       "C9210    219\n",
       "C9211     72\n",
       "C9212      4\n",
       "Name: icd_code, dtype: int64"
      ]
     },
     "execution_count": 179,
     "metadata": {},
     "output_type": "execute_result"
    }
   ],
   "source": [
    "icd10 = diag[diag['icd_code'].str.match(r'^[A-Z]')]\n",
    "filtered_icd10 = icd10[icd10['icd_code'].str.startswith('C921')]\n",
    "filtered_icd10['icd_code'].value_counts()"
   ]
  },
  {
   "cell_type": "code",
   "execution_count": 180,
   "metadata": {},
   "outputs": [
    {
     "data": {
      "text/plain": [
       "(295, 4)"
      ]
     },
     "execution_count": 180,
     "metadata": {},
     "output_type": "execute_result"
    }
   ],
   "source": [
    "filtered_icd10.shape"
   ]
  },
  {
   "cell_type": "code",
   "execution_count": 181,
   "metadata": {},
   "outputs": [
    {
     "data": {
      "text/plain": [
       "20510    260\n",
       "C9210    219\n",
       "C9211     72\n",
       "20511     67\n",
       "20512     10\n",
       "C9212      4\n",
       "Name: icd_code, dtype: int64"
      ]
     },
     "execution_count": 181,
     "metadata": {},
     "output_type": "execute_result"
    }
   ],
   "source": [
    "diag_cml = pd.concat([filtered_icd9, filtered_icd10])\n",
    "diag_cml = diag_cml.reset_index(drop=True)\n",
    "diag_cml['icd_code'].value_counts()"
   ]
  },
  {
   "cell_type": "code",
   "execution_count": 182,
   "metadata": {},
   "outputs": [
    {
     "data": {
      "text/plain": [
       "(632, 4)"
      ]
     },
     "execution_count": 182,
     "metadata": {},
     "output_type": "execute_result"
    }
   ],
   "source": [
    "diag_cml.shape"
   ]
  },
  {
   "cell_type": "code",
   "execution_count": null,
   "metadata": {},
   "outputs": [],
   "source": [
    "# diag_cml.to_csv(r\"C:\\Users\\Yahya\\Documents\\GitHub\\Internship\\CSV_files\\cml_diagnoses.csv\", index=False)"
   ]
  },
  {
   "cell_type": "code",
   "execution_count": 183,
   "metadata": {},
   "outputs": [
    {
     "name": "stdout",
     "output_type": "stream",
     "text": [
      "Unique patient numbers: 240\n"
     ]
    }
   ],
   "source": [
    "print(f\"Unique patient numbers: {diag_cml['subject_id'].nunique()}\")"
   ]
  },
  {
   "cell_type": "code",
   "execution_count": 184,
   "metadata": {},
   "outputs": [],
   "source": [
    "ICD_9_dict = {\n",
    "    'hypertensive': range(401, 406),\n",
    "    'ischemic': range(410, 415),\n",
    "    'pulmonary': range(415, 418),\n",
    "    'other': range(420, 430),\n",
    "    'cerebrovascular': range(430, 439),\n",
    "    'arterioles': range(440, 450)\n",
    "}"
   ]
  },
  {
   "cell_type": "code",
   "execution_count": 185,
   "metadata": {},
   "outputs": [],
   "source": [
    "diag_icd9 = diag[diag['icd_code'].str.match(r'^\\d')]"
   ]
  },
  {
   "cell_type": "code",
   "execution_count": 186,
   "metadata": {},
   "outputs": [
    {
     "name": "stderr",
     "output_type": "stream",
     "text": [
      "c:\\Users\\Yahya\\Documents\\GitHub\\Internship\\venv\\lib\\site-packages\\ipykernel_launcher.py:1: SettingWithCopyWarning: \n",
      "A value is trying to be set on a copy of a slice from a DataFrame.\n",
      "Try using .loc[row_indexer,col_indexer] = value instead\n",
      "\n",
      "See the caveats in the documentation: https://pandas.pydata.org/pandas-docs/stable/user_guide/indexing.html#returning-a-view-versus-a-copy\n",
      "  \"\"\"Entry point for launching an IPython kernel.\n"
     ]
    }
   ],
   "source": [
    "diag_icd9['icd_code'] = diag_icd9['icd_code'].astype('int64')"
   ]
  },
  {
   "cell_type": "code",
   "execution_count": 187,
   "metadata": {},
   "outputs": [],
   "source": [
    "condition = None\n",
    "\n",
    "for name, icd_range in ICD_9_dict.items():\n",
    "    lower = min(icd_range)\n",
    "    upper = max(icd_range)\n",
    "    new_condition = (diag_icd9['icd_code'] >= lower) & (diag_icd9['icd_code'] <= upper)\n",
    "    \n",
    "    condition = new_condition if condition is None else (condition | new_condition)\n",
    "\n",
    "# Apply the filter\n",
    "diag_cvd_9 = diag_icd9[condition]"
   ]
  },
  {
   "cell_type": "code",
   "execution_count": 188,
   "metadata": {},
   "outputs": [],
   "source": [
    "def get_icd9_category(icd_code):\n",
    "    try:\n",
    "        major = int(str(icd_code)[:3])\n",
    "        for category, code_range in ICD_9_dict.items():\n",
    "            if major in code_range:\n",
    "                return category\n",
    "    except:\n",
    "        return None"
   ]
  },
  {
   "cell_type": "code",
   "execution_count": 189,
   "metadata": {},
   "outputs": [
    {
     "name": "stderr",
     "output_type": "stream",
     "text": [
      "c:\\Users\\Yahya\\Documents\\GitHub\\Internship\\venv\\lib\\site-packages\\ipykernel_launcher.py:1: SettingWithCopyWarning: \n",
      "A value is trying to be set on a copy of a slice from a DataFrame.\n",
      "Try using .loc[row_indexer,col_indexer] = value instead\n",
      "\n",
      "See the caveats in the documentation: https://pandas.pydata.org/pandas-docs/stable/user_guide/indexing.html#returning-a-view-versus-a-copy\n",
      "  \"\"\"Entry point for launching an IPython kernel.\n"
     ]
    }
   ],
   "source": [
    "diag_cvd_9['cvd_category'] = diag_cvd_9['icd_code'].apply(get_icd9_category)"
   ]
  },
  {
   "cell_type": "code",
   "execution_count": 190,
   "metadata": {},
   "outputs": [
    {
     "data": {
      "text/plain": [
       "(23500, 5)"
      ]
     },
     "execution_count": 190,
     "metadata": {},
     "output_type": "execute_result"
    }
   ],
   "source": [
    "diag_cvd_9.shape"
   ]
  },
  {
   "cell_type": "code",
   "execution_count": 191,
   "metadata": {},
   "outputs": [
    {
     "data": {
      "text/plain": [
       "412    15201\n",
       "414     1950\n",
       "431     1887\n",
       "413     1528\n",
       "417     1231\n",
       "416      795\n",
       "430      737\n",
       "449      105\n",
       "415       63\n",
       "436        3\n",
       "Name: icd_code, dtype: int64"
      ]
     },
     "execution_count": 191,
     "metadata": {},
     "output_type": "execute_result"
    }
   ],
   "source": [
    "diag_cvd_9['icd_code'].sort_values().value_counts()"
   ]
  },
  {
   "cell_type": "code",
   "execution_count": 192,
   "metadata": {},
   "outputs": [],
   "source": [
    "diag_cvd_10 = diag[diag['icd_code'].str.startswith('I')]"
   ]
  },
  {
   "cell_type": "code",
   "execution_count": 193,
   "metadata": {},
   "outputs": [],
   "source": [
    "ICD_10_dict = {\n",
    "    'hypertensive': ['I10', 'I11', 'I12', 'I13', 'I15'],\n",
    "    'ischemic': ['I20', 'I21', 'I22', 'I23', 'I24', 'I25'],\n",
    "    'pulmonary': ['I26', 'I27'],\n",
    "    'other': ['I30', 'I31', 'I33', 'I34', 'I35', 'I36', 'I37', 'I38', 'I39'],\n",
    "    'cerebrovascular': ['I60', 'I61', 'I62', 'I63', 'I64', 'I65', 'I66', 'I67', 'I68', 'I69'],\n",
    "    'arterioles': ['I70', 'I71', 'I72', 'I73', 'I74', 'I77']\n",
    "}"
   ]
  },
  {
   "cell_type": "code",
   "execution_count": 194,
   "metadata": {},
   "outputs": [],
   "source": [
    "def get_icd10_category(icd_code):\n",
    "    try:\n",
    "        for category, prefixes in ICD_10_dict.items():\n",
    "            if any(icd_code.startswith(p) for p in prefixes):\n",
    "                return category\n",
    "    except:\n",
    "        return None"
   ]
  },
  {
   "cell_type": "code",
   "execution_count": 195,
   "metadata": {},
   "outputs": [
    {
     "name": "stderr",
     "output_type": "stream",
     "text": [
      "c:\\Users\\Yahya\\Documents\\GitHub\\Internship\\venv\\lib\\site-packages\\ipykernel_launcher.py:1: SettingWithCopyWarning: \n",
      "A value is trying to be set on a copy of a slice from a DataFrame.\n",
      "Try using .loc[row_indexer,col_indexer] = value instead\n",
      "\n",
      "See the caveats in the documentation: https://pandas.pydata.org/pandas-docs/stable/user_guide/indexing.html#returning-a-view-versus-a-copy\n",
      "  \"\"\"Entry point for launching an IPython kernel.\n"
     ]
    }
   ],
   "source": [
    "diag_cvd_10['cvd_category'] = diag_cvd_10['icd_code'].apply(get_icd10_category)\n"
   ]
  },
  {
   "cell_type": "code",
   "execution_count": 196,
   "metadata": {},
   "outputs": [],
   "source": [
    "diag_cvd = pd.concat([diag_cvd_9, diag_cvd_10])\n",
    "diag_cvd = diag_cvd.reset_index(drop=True)"
   ]
  },
  {
   "cell_type": "code",
   "execution_count": 197,
   "metadata": {},
   "outputs": [
    {
     "data": {
      "text/plain": [
       "(509603, 5)"
      ]
     },
     "execution_count": 197,
     "metadata": {},
     "output_type": "execute_result"
    }
   ],
   "source": [
    "diag_cvd.shape"
   ]
  },
  {
   "cell_type": "code",
   "execution_count": 261,
   "metadata": {},
   "outputs": [
    {
     "data": {
      "text/plain": [
       "13378"
      ]
     },
     "execution_count": 261,
     "metadata": {},
     "output_type": "execute_result"
    }
   ],
   "source": [
    "diag_cvd['subject_id'].value_counts(dropna=True).unique().sum()"
   ]
  },
  {
   "cell_type": "code",
   "execution_count": 198,
   "metadata": {},
   "outputs": [
    {
     "data": {
      "text/plain": [
       "NaN                185276\n",
       "hypertensive       137400\n",
       "ischemic           101714\n",
       "cerebrovascular     29951\n",
       "arterioles          21069\n",
       "pulmonary           17201\n",
       "other               16992\n",
       "Name: cvd_category, dtype: int64"
      ]
     },
     "execution_count": 198,
     "metadata": {},
     "output_type": "execute_result"
    }
   ],
   "source": [
    "diag_cvd['cvd_category'].value_counts(dropna=False)"
   ]
  },
  {
   "cell_type": "code",
   "execution_count": 199,
   "metadata": {},
   "outputs": [],
   "source": [
    "diag_cml = diag_cml.merge(admission, on=['subject_id', 'hadm_id'])\n",
    "diag_cml = diag_cml.reset_index(drop=True)\n",
    "diag_cvd = diag_cvd.merge(admission, on=['subject_id', 'hadm_id'])\n",
    "diag_cvd = diag_cvd.reset_index(drop=True)"
   ]
  },
  {
   "cell_type": "code",
   "execution_count": 200,
   "metadata": {},
   "outputs": [
    {
     "data": {
      "text/html": [
       "<div>\n",
       "<style scoped>\n",
       "    .dataframe tbody tr th:only-of-type {\n",
       "        vertical-align: middle;\n",
       "    }\n",
       "\n",
       "    .dataframe tbody tr th {\n",
       "        vertical-align: top;\n",
       "    }\n",
       "\n",
       "    .dataframe thead th {\n",
       "        text-align: right;\n",
       "    }\n",
       "</style>\n",
       "<table border=\"1\" class=\"dataframe\">\n",
       "  <thead>\n",
       "    <tr style=\"text-align: right;\">\n",
       "      <th></th>\n",
       "      <th>subject_id</th>\n",
       "      <th>hadm_id</th>\n",
       "      <th>icd_code</th>\n",
       "      <th>icd_version</th>\n",
       "      <th>cvd_category</th>\n",
       "      <th>admittime</th>\n",
       "      <th>dischtime</th>\n",
       "    </tr>\n",
       "  </thead>\n",
       "  <tbody>\n",
       "    <tr>\n",
       "      <th>0</th>\n",
       "      <td>10000764</td>\n",
       "      <td>27897940</td>\n",
       "      <td>412</td>\n",
       "      <td>9</td>\n",
       "      <td>ischemic</td>\n",
       "      <td>2132-10-14 23:31:00</td>\n",
       "      <td>2132-10-19 16:30:00</td>\n",
       "    </tr>\n",
       "    <tr>\n",
       "      <th>1</th>\n",
       "      <td>10000980</td>\n",
       "      <td>24947999</td>\n",
       "      <td>412</td>\n",
       "      <td>9</td>\n",
       "      <td>ischemic</td>\n",
       "      <td>2190-11-06 20:57:00</td>\n",
       "      <td>2190-11-08 15:58:00</td>\n",
       "    </tr>\n",
       "    <tr>\n",
       "      <th>2</th>\n",
       "      <td>10000980</td>\n",
       "      <td>25242409</td>\n",
       "      <td>412</td>\n",
       "      <td>9</td>\n",
       "      <td>ischemic</td>\n",
       "      <td>2191-04-03 18:48:00</td>\n",
       "      <td>2191-04-11 16:21:00</td>\n",
       "    </tr>\n",
       "    <tr>\n",
       "      <th>3</th>\n",
       "      <td>10000980</td>\n",
       "      <td>26913865</td>\n",
       "      <td>412</td>\n",
       "      <td>9</td>\n",
       "      <td>ischemic</td>\n",
       "      <td>2189-06-27 07:38:00</td>\n",
       "      <td>2189-07-03 03:00:00</td>\n",
       "    </tr>\n",
       "    <tr>\n",
       "      <th>4</th>\n",
       "      <td>10001176</td>\n",
       "      <td>23334588</td>\n",
       "      <td>412</td>\n",
       "      <td>9</td>\n",
       "      <td>ischemic</td>\n",
       "      <td>2186-11-29 03:56:00</td>\n",
       "      <td>2186-12-02 15:00:00</td>\n",
       "    </tr>\n",
       "    <tr>\n",
       "      <th>5</th>\n",
       "      <td>10001877</td>\n",
       "      <td>21320596</td>\n",
       "      <td>412</td>\n",
       "      <td>9</td>\n",
       "      <td>ischemic</td>\n",
       "      <td>2150-11-21 23:02:00</td>\n",
       "      <td>2150-11-23 16:46:00</td>\n",
       "    </tr>\n",
       "    <tr>\n",
       "      <th>6</th>\n",
       "      <td>10001877</td>\n",
       "      <td>25679292</td>\n",
       "      <td>412</td>\n",
       "      <td>9</td>\n",
       "      <td>ischemic</td>\n",
       "      <td>2149-05-21 15:53:00</td>\n",
       "      <td>2149-05-27 13:35:00</td>\n",
       "    </tr>\n",
       "    <tr>\n",
       "      <th>7</th>\n",
       "      <td>10002013</td>\n",
       "      <td>21975601</td>\n",
       "      <td>412</td>\n",
       "      <td>9</td>\n",
       "      <td>ischemic</td>\n",
       "      <td>2159-12-14 23:55:00</td>\n",
       "      <td>2159-12-17 14:04:00</td>\n",
       "    </tr>\n",
       "    <tr>\n",
       "      <th>8</th>\n",
       "      <td>10002013</td>\n",
       "      <td>23581541</td>\n",
       "      <td>412</td>\n",
       "      <td>9</td>\n",
       "      <td>ischemic</td>\n",
       "      <td>2160-05-18 07:45:00</td>\n",
       "      <td>2160-05-23 13:30:00</td>\n",
       "    </tr>\n",
       "    <tr>\n",
       "      <th>9</th>\n",
       "      <td>10002013</td>\n",
       "      <td>23745275</td>\n",
       "      <td>412</td>\n",
       "      <td>9</td>\n",
       "      <td>ischemic</td>\n",
       "      <td>2157-10-31 12:54:00</td>\n",
       "      <td>2157-11-01 13:00:00</td>\n",
       "    </tr>\n",
       "    <tr>\n",
       "      <th>10</th>\n",
       "      <td>10002013</td>\n",
       "      <td>28420602</td>\n",
       "      <td>412</td>\n",
       "      <td>9</td>\n",
       "      <td>ischemic</td>\n",
       "      <td>2161-02-07 23:08:00</td>\n",
       "      <td>2161-02-09 18:51:00</td>\n",
       "    </tr>\n",
       "    <tr>\n",
       "      <th>11</th>\n",
       "      <td>10002155</td>\n",
       "      <td>20345487</td>\n",
       "      <td>412</td>\n",
       "      <td>9</td>\n",
       "      <td>ischemic</td>\n",
       "      <td>2131-03-09 20:33:00</td>\n",
       "      <td>2131-03-10 01:55:00</td>\n",
       "    </tr>\n",
       "    <tr>\n",
       "      <th>12</th>\n",
       "      <td>10002155</td>\n",
       "      <td>28994087</td>\n",
       "      <td>412</td>\n",
       "      <td>9</td>\n",
       "      <td>ischemic</td>\n",
       "      <td>2130-09-23 21:59:00</td>\n",
       "      <td>2130-09-29 18:55:00</td>\n",
       "    </tr>\n",
       "    <tr>\n",
       "      <th>13</th>\n",
       "      <td>10002976</td>\n",
       "      <td>27179825</td>\n",
       "      <td>412</td>\n",
       "      <td>9</td>\n",
       "      <td>ischemic</td>\n",
       "      <td>2145-02-28 19:44:00</td>\n",
       "      <td>2145-03-05 16:45:00</td>\n",
       "    </tr>\n",
       "    <tr>\n",
       "      <th>14</th>\n",
       "      <td>10003400</td>\n",
       "      <td>20214994</td>\n",
       "      <td>417</td>\n",
       "      <td>9</td>\n",
       "      <td>pulmonary</td>\n",
       "      <td>2137-02-24 10:00:00</td>\n",
       "      <td>2137-03-19 15:45:00</td>\n",
       "    </tr>\n",
       "    <tr>\n",
       "      <th>15</th>\n",
       "      <td>10003502</td>\n",
       "      <td>23352834</td>\n",
       "      <td>412</td>\n",
       "      <td>9</td>\n",
       "      <td>ischemic</td>\n",
       "      <td>2164-02-25 13:53:00</td>\n",
       "      <td>2164-02-27 14:00:00</td>\n",
       "    </tr>\n",
       "    <tr>\n",
       "      <th>16</th>\n",
       "      <td>10003502</td>\n",
       "      <td>26475031</td>\n",
       "      <td>412</td>\n",
       "      <td>9</td>\n",
       "      <td>ischemic</td>\n",
       "      <td>2166-02-20 15:35:00</td>\n",
       "      <td>2166-02-21 17:42:00</td>\n",
       "    </tr>\n",
       "    <tr>\n",
       "      <th>17</th>\n",
       "      <td>10003502</td>\n",
       "      <td>29391916</td>\n",
       "      <td>412</td>\n",
       "      <td>9</td>\n",
       "      <td>ischemic</td>\n",
       "      <td>2165-12-24 04:45:00</td>\n",
       "      <td>2165-12-26 14:15:00</td>\n",
       "    </tr>\n",
       "    <tr>\n",
       "      <th>18</th>\n",
       "      <td>10003502</td>\n",
       "      <td>29460260</td>\n",
       "      <td>412</td>\n",
       "      <td>9</td>\n",
       "      <td>ischemic</td>\n",
       "      <td>2163-04-12 21:21:00</td>\n",
       "      <td>2163-04-13 16:38:00</td>\n",
       "    </tr>\n",
       "    <tr>\n",
       "      <th>19</th>\n",
       "      <td>10003637</td>\n",
       "      <td>26115941</td>\n",
       "      <td>412</td>\n",
       "      <td>9</td>\n",
       "      <td>ischemic</td>\n",
       "      <td>2145-01-04 19:56:00</td>\n",
       "      <td>2145-01-06 20:00:00</td>\n",
       "    </tr>\n",
       "    <tr>\n",
       "      <th>20</th>\n",
       "      <td>10004401</td>\n",
       "      <td>23920883</td>\n",
       "      <td>417</td>\n",
       "      <td>9</td>\n",
       "      <td>pulmonary</td>\n",
       "      <td>2144-04-21 20:29:00</td>\n",
       "      <td>2144-05-01 13:00:00</td>\n",
       "    </tr>\n",
       "    <tr>\n",
       "      <th>21</th>\n",
       "      <td>10004401</td>\n",
       "      <td>23920883</td>\n",
       "      <td>413</td>\n",
       "      <td>9</td>\n",
       "      <td>ischemic</td>\n",
       "      <td>2144-04-21 20:29:00</td>\n",
       "      <td>2144-05-01 13:00:00</td>\n",
       "    </tr>\n",
       "    <tr>\n",
       "      <th>22</th>\n",
       "      <td>10004401</td>\n",
       "      <td>29988601</td>\n",
       "      <td>416</td>\n",
       "      <td>9</td>\n",
       "      <td>pulmonary</td>\n",
       "      <td>2144-01-23 07:58:00</td>\n",
       "      <td>2144-02-06 11:45:00</td>\n",
       "    </tr>\n",
       "    <tr>\n",
       "      <th>23</th>\n",
       "      <td>10004733</td>\n",
       "      <td>27411876</td>\n",
       "      <td>416</td>\n",
       "      <td>9</td>\n",
       "      <td>pulmonary</td>\n",
       "      <td>2174-12-04 11:28:00</td>\n",
       "      <td>2174-12-27 14:00:00</td>\n",
       "    </tr>\n",
       "    <tr>\n",
       "      <th>24</th>\n",
       "      <td>10005012</td>\n",
       "      <td>28371912</td>\n",
       "      <td>412</td>\n",
       "      <td>9</td>\n",
       "      <td>ischemic</td>\n",
       "      <td>2169-10-23 14:19:00</td>\n",
       "      <td>2169-10-30 14:27:00</td>\n",
       "    </tr>\n",
       "  </tbody>\n",
       "</table>\n",
       "</div>"
      ],
      "text/plain": [
       "    subject_id   hadm_id icd_code  icd_version cvd_category  \\\n",
       "0     10000764  27897940      412            9     ischemic   \n",
       "1     10000980  24947999      412            9     ischemic   \n",
       "2     10000980  25242409      412            9     ischemic   \n",
       "3     10000980  26913865      412            9     ischemic   \n",
       "4     10001176  23334588      412            9     ischemic   \n",
       "5     10001877  21320596      412            9     ischemic   \n",
       "6     10001877  25679292      412            9     ischemic   \n",
       "7     10002013  21975601      412            9     ischemic   \n",
       "8     10002013  23581541      412            9     ischemic   \n",
       "9     10002013  23745275      412            9     ischemic   \n",
       "10    10002013  28420602      412            9     ischemic   \n",
       "11    10002155  20345487      412            9     ischemic   \n",
       "12    10002155  28994087      412            9     ischemic   \n",
       "13    10002976  27179825      412            9     ischemic   \n",
       "14    10003400  20214994      417            9    pulmonary   \n",
       "15    10003502  23352834      412            9     ischemic   \n",
       "16    10003502  26475031      412            9     ischemic   \n",
       "17    10003502  29391916      412            9     ischemic   \n",
       "18    10003502  29460260      412            9     ischemic   \n",
       "19    10003637  26115941      412            9     ischemic   \n",
       "20    10004401  23920883      417            9    pulmonary   \n",
       "21    10004401  23920883      413            9     ischemic   \n",
       "22    10004401  29988601      416            9    pulmonary   \n",
       "23    10004733  27411876      416            9    pulmonary   \n",
       "24    10005012  28371912      412            9     ischemic   \n",
       "\n",
       "              admittime            dischtime  \n",
       "0   2132-10-14 23:31:00  2132-10-19 16:30:00  \n",
       "1   2190-11-06 20:57:00  2190-11-08 15:58:00  \n",
       "2   2191-04-03 18:48:00  2191-04-11 16:21:00  \n",
       "3   2189-06-27 07:38:00  2189-07-03 03:00:00  \n",
       "4   2186-11-29 03:56:00  2186-12-02 15:00:00  \n",
       "5   2150-11-21 23:02:00  2150-11-23 16:46:00  \n",
       "6   2149-05-21 15:53:00  2149-05-27 13:35:00  \n",
       "7   2159-12-14 23:55:00  2159-12-17 14:04:00  \n",
       "8   2160-05-18 07:45:00  2160-05-23 13:30:00  \n",
       "9   2157-10-31 12:54:00  2157-11-01 13:00:00  \n",
       "10  2161-02-07 23:08:00  2161-02-09 18:51:00  \n",
       "11  2131-03-09 20:33:00  2131-03-10 01:55:00  \n",
       "12  2130-09-23 21:59:00  2130-09-29 18:55:00  \n",
       "13  2145-02-28 19:44:00  2145-03-05 16:45:00  \n",
       "14  2137-02-24 10:00:00  2137-03-19 15:45:00  \n",
       "15  2164-02-25 13:53:00  2164-02-27 14:00:00  \n",
       "16  2166-02-20 15:35:00  2166-02-21 17:42:00  \n",
       "17  2165-12-24 04:45:00  2165-12-26 14:15:00  \n",
       "18  2163-04-12 21:21:00  2163-04-13 16:38:00  \n",
       "19  2145-01-04 19:56:00  2145-01-06 20:00:00  \n",
       "20  2144-04-21 20:29:00  2144-05-01 13:00:00  \n",
       "21  2144-04-21 20:29:00  2144-05-01 13:00:00  \n",
       "22  2144-01-23 07:58:00  2144-02-06 11:45:00  \n",
       "23  2174-12-04 11:28:00  2174-12-27 14:00:00  \n",
       "24  2169-10-23 14:19:00  2169-10-30 14:27:00  "
      ]
     },
     "execution_count": 200,
     "metadata": {},
     "output_type": "execute_result"
    }
   ],
   "source": [
    "diag_cvd.head(25)"
   ]
  },
  {
   "cell_type": "code",
   "execution_count": 201,
   "metadata": {},
   "outputs": [],
   "source": [
    "# Keep only columns we need\n",
    "cml = diag_cml[['subject_id', 'admittime']].rename(columns={'admittime': 'cml_date'})\n",
    "cvd = diag_cvd[['subject_id', 'admittime']].rename(columns={'admittime': 'cvd_date'})\n"
   ]
  },
  {
   "cell_type": "code",
   "execution_count": 202,
   "metadata": {},
   "outputs": [],
   "source": [
    "cml['cml_date'] = pd.to_datetime(cml['cml_date'])\n",
    "cvd['cvd_date'] = pd.to_datetime(cvd['cvd_date'])"
   ]
  },
  {
   "cell_type": "code",
   "execution_count": 211,
   "metadata": {},
   "outputs": [
    {
     "data": {
      "text/plain": [
       "240"
      ]
     },
     "execution_count": 211,
     "metadata": {},
     "output_type": "execute_result"
    }
   ],
   "source": [
    "cml['subject_id'].nunique()"
   ]
  },
  {
   "cell_type": "code",
   "execution_count": 217,
   "metadata": {},
   "outputs": [],
   "source": [
    "cml_cvd = cml.merge(cvd, on='subject_id', how='left')\n",
    "cml_cvd = cml_cvd.reset_index(drop=True)"
   ]
  },
  {
   "cell_type": "code",
   "execution_count": 220,
   "metadata": {},
   "outputs": [
    {
     "data": {
      "text/plain": [
       "240"
      ]
     },
     "execution_count": 220,
     "metadata": {},
     "output_type": "execute_result"
    }
   ],
   "source": [
    "### check if all CML patients are in the merged table\n",
    "cml[cml['subject_id'].isin(cml_cvd['subject_id'].unique())]['subject_id'].nunique()"
   ]
  },
  {
   "cell_type": "code",
   "execution_count": 221,
   "metadata": {},
   "outputs": [],
   "source": [
    "cml_cvd['has_future_cvd'] = (cml_cvd['cvd_date'] > cml_cvd['cml_date']).astype(int) ### what if the patient got CML and CVD in one admission\n",
    "cml_cvd['has_immediate_cvd'] = (cml_cvd['cvd_date'] == cml_cvd['cml_date']).astype(int)\n",
    "cml_cvd['has_cvd'] = (cml_cvd['cvd_date'] >= cml_cvd['cml_date']).astype(int)\n",
    "cml_cvd['has_cvd_before_cml'] = (cml_cvd['cvd_date'] < cml_cvd['cml_date']).astype(int)\n",
    "### Calculate the durations (by months) between CVD diagnosis and CML diagnosis\n",
    "cml_cvd['duration'] = (cml_cvd['cvd_date']-cml_cvd['cml_date']).dt.days / 30.44"
   ]
  },
  {
   "cell_type": "code",
   "execution_count": 224,
   "metadata": {},
   "outputs": [
    {
     "name": "stdout",
     "output_type": "stream",
     "text": [
      "Patients got CVD after CML: \n",
      "0    164\n",
      "1     76\n",
      "Name: has_future_cvd, dtype: int64\n",
      "Patients got CVD with CML: \n",
      "0    122\n",
      "1    118\n",
      "Name: has_immediate_cvd, dtype: int64\n",
      "Patients got CVD before CML: \n",
      "0    164\n",
      "1     76\n",
      "Name: has_cvd_before_cml, dtype: int64\n",
      "Patients got CVD after or with CML: \n",
      "1    127\n",
      "0    113\n",
      "Name: has_cvd, dtype: int64\n",
      "Patients NO CVD with CML: \n",
      "109\n"
     ]
    }
   ],
   "source": [
    "labels_has_future_cvd = cml_cvd.groupby('subject_id')['has_future_cvd'].max().reset_index()\n",
    "labels_has_immediate_cvd = cml_cvd.groupby('subject_id')['has_immediate_cvd'].max().reset_index()\n",
    "labels_has_cvd = cml_cvd.groupby('subject_id')['has_cvd'].max().reset_index()\n",
    "labels_has_cvd_before_cml = cml_cvd.groupby('subject_id')['has_cvd_before_cml'].max().reset_index()\n",
    "cml_cvd_duration = cml_cvd.groupby('subject_id')['duration'].min().reset_index()\n",
    "\n",
    "print(f\"Patients got CVD after CML: \\n{labels_has_future_cvd.has_future_cvd.value_counts()}\")\n",
    "print(f\"Patients got CVD with CML: \\n{labels_has_immediate_cvd.has_immediate_cvd.value_counts()}\")\n",
    "print(f\"Patients got CVD before CML: \\n{labels_has_cvd_before_cml.has_cvd_before_cml.value_counts()}\")\n",
    "print(f\"Patients got CVD after or with CML: \\n{labels_has_cvd.has_cvd.value_counts()}\")\n",
    "print(f\"Patients NO CVD with CML: \\n{cml_cvd_duration['duration'].isnull().sum()}\")"
   ]
  },
  {
   "cell_type": "code",
   "execution_count": 225,
   "metadata": {},
   "outputs": [],
   "source": [
    "diag_cml_labeled = diag_cml.merge(labels_has_cvd, on='subject_id', how='left')\n",
    "diag_cml_labeled = diag_cml_labeled.merge(cml_cvd_duration, on='subject_id', how='left')"
   ]
  },
  {
   "cell_type": "code",
   "execution_count": 248,
   "metadata": {},
   "outputs": [
    {
     "data": {
      "text/html": [
       "<div>\n",
       "<style scoped>\n",
       "    .dataframe tbody tr th:only-of-type {\n",
       "        vertical-align: middle;\n",
       "    }\n",
       "\n",
       "    .dataframe tbody tr th {\n",
       "        vertical-align: top;\n",
       "    }\n",
       "\n",
       "    .dataframe thead th {\n",
       "        text-align: right;\n",
       "    }\n",
       "</style>\n",
       "<table border=\"1\" class=\"dataframe\">\n",
       "  <thead>\n",
       "    <tr style=\"text-align: right;\">\n",
       "      <th></th>\n",
       "      <th>subject_id</th>\n",
       "      <th>hadm_id</th>\n",
       "      <th>icd_code</th>\n",
       "      <th>icd_version</th>\n",
       "      <th>admittime</th>\n",
       "      <th>dischtime</th>\n",
       "      <th>has_cvd</th>\n",
       "      <th>duration</th>\n",
       "    </tr>\n",
       "  </thead>\n",
       "  <tbody>\n",
       "    <tr>\n",
       "      <th>0</th>\n",
       "      <td>10147182</td>\n",
       "      <td>22852948</td>\n",
       "      <td>20510</td>\n",
       "      <td>9</td>\n",
       "      <td>2179-11-22 07:15:00</td>\n",
       "      <td>2179-11-25 19:47:00</td>\n",
       "      <td>0</td>\n",
       "      <td>NaN</td>\n",
       "    </tr>\n",
       "    <tr>\n",
       "      <th>1</th>\n",
       "      <td>10147182</td>\n",
       "      <td>29298623</td>\n",
       "      <td>20510</td>\n",
       "      <td>9</td>\n",
       "      <td>2179-11-07 17:27:00</td>\n",
       "      <td>2179-11-17 18:30:00</td>\n",
       "      <td>0</td>\n",
       "      <td>NaN</td>\n",
       "    </tr>\n",
       "    <tr>\n",
       "      <th>2</th>\n",
       "      <td>10156269</td>\n",
       "      <td>20111062</td>\n",
       "      <td>20510</td>\n",
       "      <td>9</td>\n",
       "      <td>2188-03-25 16:24:00</td>\n",
       "      <td>2188-04-14 13:52:00</td>\n",
       "      <td>1</td>\n",
       "      <td>73.423127</td>\n",
       "    </tr>\n",
       "    <tr>\n",
       "      <th>3</th>\n",
       "      <td>10156269</td>\n",
       "      <td>20456214</td>\n",
       "      <td>20511</td>\n",
       "      <td>9</td>\n",
       "      <td>2188-07-11 06:56:00</td>\n",
       "      <td>2188-07-16 12:50:00</td>\n",
       "      <td>1</td>\n",
       "      <td>73.423127</td>\n",
       "    </tr>\n",
       "    <tr>\n",
       "      <th>4</th>\n",
       "      <td>10156269</td>\n",
       "      <td>21692474</td>\n",
       "      <td>20510</td>\n",
       "      <td>9</td>\n",
       "      <td>2187-08-25 21:02:00</td>\n",
       "      <td>2187-09-16 14:51:00</td>\n",
       "      <td>1</td>\n",
       "      <td>73.423127</td>\n",
       "    </tr>\n",
       "    <tr>\n",
       "      <th>5</th>\n",
       "      <td>10156269</td>\n",
       "      <td>22026410</td>\n",
       "      <td>20511</td>\n",
       "      <td>9</td>\n",
       "      <td>2191-07-14 18:52:00</td>\n",
       "      <td>2191-07-15 16:39:00</td>\n",
       "      <td>1</td>\n",
       "      <td>73.423127</td>\n",
       "    </tr>\n",
       "    <tr>\n",
       "      <th>6</th>\n",
       "      <td>10156269</td>\n",
       "      <td>24384614</td>\n",
       "      <td>20510</td>\n",
       "      <td>9</td>\n",
       "      <td>2187-10-10 22:15:00</td>\n",
       "      <td>2187-10-15 12:00:00</td>\n",
       "      <td>1</td>\n",
       "      <td>73.423127</td>\n",
       "    </tr>\n",
       "    <tr>\n",
       "      <th>7</th>\n",
       "      <td>10156269</td>\n",
       "      <td>24720101</td>\n",
       "      <td>20512</td>\n",
       "      <td>9</td>\n",
       "      <td>2188-05-21 16:49:00</td>\n",
       "      <td>2188-05-31 14:00:00</td>\n",
       "      <td>1</td>\n",
       "      <td>73.423127</td>\n",
       "    </tr>\n",
       "    <tr>\n",
       "      <th>8</th>\n",
       "      <td>10156269</td>\n",
       "      <td>25904914</td>\n",
       "      <td>20512</td>\n",
       "      <td>9</td>\n",
       "      <td>2188-01-11 12:38:00</td>\n",
       "      <td>2188-02-24 14:15:00</td>\n",
       "      <td>1</td>\n",
       "      <td>73.423127</td>\n",
       "    </tr>\n",
       "    <tr>\n",
       "      <th>9</th>\n",
       "      <td>10156269</td>\n",
       "      <td>27301535</td>\n",
       "      <td>20510</td>\n",
       "      <td>9</td>\n",
       "      <td>2187-09-25 11:51:00</td>\n",
       "      <td>2187-09-29 15:55:00</td>\n",
       "      <td>1</td>\n",
       "      <td>73.423127</td>\n",
       "    </tr>\n",
       "    <tr>\n",
       "      <th>10</th>\n",
       "      <td>10156269</td>\n",
       "      <td>29729488</td>\n",
       "      <td>20510</td>\n",
       "      <td>9</td>\n",
       "      <td>2187-11-10 09:48:00</td>\n",
       "      <td>2187-11-14 15:00:00</td>\n",
       "      <td>1</td>\n",
       "      <td>73.423127</td>\n",
       "    </tr>\n",
       "    <tr>\n",
       "      <th>11</th>\n",
       "      <td>10270170</td>\n",
       "      <td>21423521</td>\n",
       "      <td>20511</td>\n",
       "      <td>9</td>\n",
       "      <td>2177-03-09 03:01:00</td>\n",
       "      <td>2177-03-10 19:35:00</td>\n",
       "      <td>0</td>\n",
       "      <td>NaN</td>\n",
       "    </tr>\n",
       "    <tr>\n",
       "      <th>12</th>\n",
       "      <td>10270170</td>\n",
       "      <td>29774287</td>\n",
       "      <td>20510</td>\n",
       "      <td>9</td>\n",
       "      <td>2176-04-25 14:39:00</td>\n",
       "      <td>2176-05-08 13:30:00</td>\n",
       "      <td>0</td>\n",
       "      <td>NaN</td>\n",
       "    </tr>\n",
       "    <tr>\n",
       "      <th>13</th>\n",
       "      <td>10286475</td>\n",
       "      <td>20864231</td>\n",
       "      <td>20510</td>\n",
       "      <td>9</td>\n",
       "      <td>2144-02-28 16:33:00</td>\n",
       "      <td>2144-03-02 16:15:00</td>\n",
       "      <td>1</td>\n",
       "      <td>-63.140604</td>\n",
       "    </tr>\n",
       "    <tr>\n",
       "      <th>14</th>\n",
       "      <td>10286475</td>\n",
       "      <td>21128250</td>\n",
       "      <td>20510</td>\n",
       "      <td>9</td>\n",
       "      <td>2148-04-14 20:18:00</td>\n",
       "      <td>2148-04-15 07:54:00</td>\n",
       "      <td>1</td>\n",
       "      <td>-63.140604</td>\n",
       "    </tr>\n",
       "    <tr>\n",
       "      <th>15</th>\n",
       "      <td>10286475</td>\n",
       "      <td>21466887</td>\n",
       "      <td>20510</td>\n",
       "      <td>9</td>\n",
       "      <td>2147-01-11 18:47:00</td>\n",
       "      <td>2147-01-22 17:30:00</td>\n",
       "      <td>1</td>\n",
       "      <td>-63.140604</td>\n",
       "    </tr>\n",
       "    <tr>\n",
       "      <th>16</th>\n",
       "      <td>10286475</td>\n",
       "      <td>22669857</td>\n",
       "      <td>20510</td>\n",
       "      <td>9</td>\n",
       "      <td>2146-04-27 19:00:00</td>\n",
       "      <td>2146-04-28 19:00:00</td>\n",
       "      <td>1</td>\n",
       "      <td>-63.140604</td>\n",
       "    </tr>\n",
       "    <tr>\n",
       "      <th>17</th>\n",
       "      <td>10286475</td>\n",
       "      <td>23045213</td>\n",
       "      <td>20510</td>\n",
       "      <td>9</td>\n",
       "      <td>2144-09-03 00:11:00</td>\n",
       "      <td>2144-09-03 08:30:00</td>\n",
       "      <td>1</td>\n",
       "      <td>-63.140604</td>\n",
       "    </tr>\n",
       "    <tr>\n",
       "      <th>18</th>\n",
       "      <td>10286475</td>\n",
       "      <td>24789394</td>\n",
       "      <td>20510</td>\n",
       "      <td>9</td>\n",
       "      <td>2145-01-29 22:49:00</td>\n",
       "      <td>2145-02-01 15:03:00</td>\n",
       "      <td>1</td>\n",
       "      <td>-63.140604</td>\n",
       "    </tr>\n",
       "    <tr>\n",
       "      <th>19</th>\n",
       "      <td>10286475</td>\n",
       "      <td>24861549</td>\n",
       "      <td>20510</td>\n",
       "      <td>9</td>\n",
       "      <td>2144-05-27 15:47:00</td>\n",
       "      <td>2144-05-28 14:11:00</td>\n",
       "      <td>1</td>\n",
       "      <td>-63.140604</td>\n",
       "    </tr>\n",
       "    <tr>\n",
       "      <th>20</th>\n",
       "      <td>10286475</td>\n",
       "      <td>25443981</td>\n",
       "      <td>20510</td>\n",
       "      <td>9</td>\n",
       "      <td>2144-01-10 13:43:00</td>\n",
       "      <td>2144-01-15 12:00:00</td>\n",
       "      <td>1</td>\n",
       "      <td>-63.140604</td>\n",
       "    </tr>\n",
       "    <tr>\n",
       "      <th>21</th>\n",
       "      <td>10286475</td>\n",
       "      <td>27887209</td>\n",
       "      <td>20510</td>\n",
       "      <td>9</td>\n",
       "      <td>2148-03-20 18:20:00</td>\n",
       "      <td>2148-03-23 15:35:00</td>\n",
       "      <td>1</td>\n",
       "      <td>-63.140604</td>\n",
       "    </tr>\n",
       "    <tr>\n",
       "      <th>22</th>\n",
       "      <td>10286475</td>\n",
       "      <td>29102640</td>\n",
       "      <td>20510</td>\n",
       "      <td>9</td>\n",
       "      <td>2148-03-26 19:33:00</td>\n",
       "      <td>2148-04-04 16:15:00</td>\n",
       "      <td>1</td>\n",
       "      <td>-63.140604</td>\n",
       "    </tr>\n",
       "    <tr>\n",
       "      <th>23</th>\n",
       "      <td>10294074</td>\n",
       "      <td>20254507</td>\n",
       "      <td>20510</td>\n",
       "      <td>9</td>\n",
       "      <td>2189-10-31 02:34:00</td>\n",
       "      <td>2189-11-02 14:08:00</td>\n",
       "      <td>0</td>\n",
       "      <td>NaN</td>\n",
       "    </tr>\n",
       "    <tr>\n",
       "      <th>24</th>\n",
       "      <td>10294074</td>\n",
       "      <td>20335519</td>\n",
       "      <td>20510</td>\n",
       "      <td>9</td>\n",
       "      <td>2194-07-01 17:58:00</td>\n",
       "      <td>2194-07-05 12:00:00</td>\n",
       "      <td>0</td>\n",
       "      <td>NaN</td>\n",
       "    </tr>\n",
       "  </tbody>\n",
       "</table>\n",
       "</div>"
      ],
      "text/plain": [
       "    subject_id   hadm_id icd_code  icd_version            admittime  \\\n",
       "0     10147182  22852948    20510            9  2179-11-22 07:15:00   \n",
       "1     10147182  29298623    20510            9  2179-11-07 17:27:00   \n",
       "2     10156269  20111062    20510            9  2188-03-25 16:24:00   \n",
       "3     10156269  20456214    20511            9  2188-07-11 06:56:00   \n",
       "4     10156269  21692474    20510            9  2187-08-25 21:02:00   \n",
       "5     10156269  22026410    20511            9  2191-07-14 18:52:00   \n",
       "6     10156269  24384614    20510            9  2187-10-10 22:15:00   \n",
       "7     10156269  24720101    20512            9  2188-05-21 16:49:00   \n",
       "8     10156269  25904914    20512            9  2188-01-11 12:38:00   \n",
       "9     10156269  27301535    20510            9  2187-09-25 11:51:00   \n",
       "10    10156269  29729488    20510            9  2187-11-10 09:48:00   \n",
       "11    10270170  21423521    20511            9  2177-03-09 03:01:00   \n",
       "12    10270170  29774287    20510            9  2176-04-25 14:39:00   \n",
       "13    10286475  20864231    20510            9  2144-02-28 16:33:00   \n",
       "14    10286475  21128250    20510            9  2148-04-14 20:18:00   \n",
       "15    10286475  21466887    20510            9  2147-01-11 18:47:00   \n",
       "16    10286475  22669857    20510            9  2146-04-27 19:00:00   \n",
       "17    10286475  23045213    20510            9  2144-09-03 00:11:00   \n",
       "18    10286475  24789394    20510            9  2145-01-29 22:49:00   \n",
       "19    10286475  24861549    20510            9  2144-05-27 15:47:00   \n",
       "20    10286475  25443981    20510            9  2144-01-10 13:43:00   \n",
       "21    10286475  27887209    20510            9  2148-03-20 18:20:00   \n",
       "22    10286475  29102640    20510            9  2148-03-26 19:33:00   \n",
       "23    10294074  20254507    20510            9  2189-10-31 02:34:00   \n",
       "24    10294074  20335519    20510            9  2194-07-01 17:58:00   \n",
       "\n",
       "              dischtime  has_cvd   duration  \n",
       "0   2179-11-25 19:47:00        0        NaN  \n",
       "1   2179-11-17 18:30:00        0        NaN  \n",
       "2   2188-04-14 13:52:00        1  73.423127  \n",
       "3   2188-07-16 12:50:00        1  73.423127  \n",
       "4   2187-09-16 14:51:00        1  73.423127  \n",
       "5   2191-07-15 16:39:00        1  73.423127  \n",
       "6   2187-10-15 12:00:00        1  73.423127  \n",
       "7   2188-05-31 14:00:00        1  73.423127  \n",
       "8   2188-02-24 14:15:00        1  73.423127  \n",
       "9   2187-09-29 15:55:00        1  73.423127  \n",
       "10  2187-11-14 15:00:00        1  73.423127  \n",
       "11  2177-03-10 19:35:00        0        NaN  \n",
       "12  2176-05-08 13:30:00        0        NaN  \n",
       "13  2144-03-02 16:15:00        1 -63.140604  \n",
       "14  2148-04-15 07:54:00        1 -63.140604  \n",
       "15  2147-01-22 17:30:00        1 -63.140604  \n",
       "16  2146-04-28 19:00:00        1 -63.140604  \n",
       "17  2144-09-03 08:30:00        1 -63.140604  \n",
       "18  2145-02-01 15:03:00        1 -63.140604  \n",
       "19  2144-05-28 14:11:00        1 -63.140604  \n",
       "20  2144-01-15 12:00:00        1 -63.140604  \n",
       "21  2148-03-23 15:35:00        1 -63.140604  \n",
       "22  2148-04-04 16:15:00        1 -63.140604  \n",
       "23  2189-11-02 14:08:00        0        NaN  \n",
       "24  2194-07-05 12:00:00        0        NaN  "
      ]
     },
     "execution_count": 248,
     "metadata": {},
     "output_type": "execute_result"
    }
   ],
   "source": [
    "diag_cml_labeled.head(25)"
   ]
  },
  {
   "cell_type": "code",
   "execution_count": 228,
   "metadata": {},
   "outputs": [
    {
     "data": {
      "text/plain": [
       "1    127\n",
       "0    113\n",
       "Name: has_cvd, dtype: int64"
      ]
     },
     "execution_count": 228,
     "metadata": {},
     "output_type": "execute_result"
    }
   ],
   "source": [
    "diag_cml_labeled_unique = diag_cml_labeled[['subject_id', 'has_cvd', 'duration']].drop_duplicates()\n",
    "diag_cml_labeled_unique['has_cvd'].value_counts()\n",
    "# diag_cml_labeled['has_future_cvd'] = diag_cml_labeled['has_future_cvd'].fillna(0).astype(int)"
   ]
  },
  {
   "cell_type": "code",
   "execution_count": 247,
   "metadata": {},
   "outputs": [
    {
     "data": {
      "image/png": "[encoded data removed]",
      "text/plain": [
       "<Waffle size 1000x600 with 1 Axes>"
      ]
     },
     "metadata": {},
     "output_type": "display_data"
    }
   ],
   "source": [
    "from pywaffle import Waffle\n",
    "\n",
    "values = diag_cml_labeled_unique['has_cvd'].value_counts().to_dict()\n",
    "\n",
    "fig = plt.figure(\n",
    "    FigureClass=Waffle,\n",
    "    rows=5,\n",
    "    values=values,\n",
    "    colors=[\"#d8562f\", \"#8cd82f\"],\n",
    "    block_arranging_style='snake',\n",
    "    figsize=(10, 6),\n",
    "    legend={\n",
    "        'loc': 'upper left',\n",
    "        'bbox_to_anchor': (1, 1),\n",
    "        'fontsize': 12,\n",
    "        'title': 'CVD Status'\n",
    "    }\n",
    ")\n"
   ]
  }
 ],
 "metadata": {
  "colab": {
   "authorship_tag": "ABX9TyOT770SCaFK/4urxotTOhPa",
   "provenance": []
  },
  "kernelspec": {
   "display_name": "venv",
   "language": "python",
   "name": "python3"
  },
  "language_info": {
   "codemirror_mode": {
    "name": "ipython",
    "version": 3
   },
   "file_extension": ".py",
   "mimetype": "text/x-python",
   "name": "python",
   "nbconvert_exporter": "python",
   "pygments_lexer": "ipython3",
   "version": "3.7.1"
  }
 },
 "nbformat": 4,
 "nbformat_minor": 0
}
