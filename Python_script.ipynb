{
 "cells": [
  {
   "cell_type": "code",
   "execution_count": 16,
   "metadata": {
    "executionInfo": {
     "elapsed": 7,
     "status": "ok",
     "timestamp": 1746101559479,
     "user": {
      "displayName": "Yahya Loughribi",
      "userId": "15992529283825579695"
     },
     "user_tz": -120
    },
    "id": "Ow-n67aOxp6A"
   },
   "outputs": [],
   "source": [
    "import pandas as pd\n",
    "import matplotlib.pyplot as plt\n",
    "import seaborn as sb"
   ]
  },
  {
   "cell_type": "code",
   "execution_count": 17,
   "metadata": {
    "executionInfo": {
     "elapsed": 4813,
     "status": "ok",
     "timestamp": 1746101565678,
     "user": {
      "displayName": "Yahya Loughribi",
      "userId": "15992529283825579695"
     },
     "user_tz": -120
    },
    "id": "2c59Wt-qkoWU"
   },
   "outputs": [],
   "source": [
    "diag = pd.read_csv('CSV files\\\\diagnoses_table.csv')"
   ]
  },
  {
   "cell_type": "code",
   "execution_count": 18,
   "metadata": {
    "colab": {
     "base_uri": "https://localhost:8080/",
     "height": 206
    },
    "executionInfo": {
     "elapsed": 5,
     "status": "ok",
     "timestamp": 1746101566809,
     "user": {
      "displayName": "Yahya Loughribi",
      "userId": "15992529283825579695"
     },
     "user_tz": -120
    },
    "id": "kHufgr4Jk9s4",
    "outputId": "4e4e0ecd-8bd9-4216-dc27-509842de3f76"
   },
   "outputs": [
    {
     "data": {
      "text/html": [
       "<div>\n",
       "<style scoped>\n",
       "    .dataframe tbody tr th:only-of-type {\n",
       "        vertical-align: middle;\n",
       "    }\n",
       "\n",
       "    .dataframe tbody tr th {\n",
       "        vertical-align: top;\n",
       "    }\n",
       "\n",
       "    .dataframe thead th {\n",
       "        text-align: right;\n",
       "    }\n",
       "</style>\n",
       "<table border=\"1\" class=\"dataframe\">\n",
       "  <thead>\n",
       "    <tr style=\"text-align: right;\">\n",
       "      <th></th>\n",
       "      <th>subject_id</th>\n",
       "      <th>hadm_id</th>\n",
       "      <th>icd_code</th>\n",
       "      <th>icd_version</th>\n",
       "    </tr>\n",
       "  </thead>\n",
       "  <tbody>\n",
       "    <tr>\n",
       "      <th>0</th>\n",
       "      <td>13757356</td>\n",
       "      <td>22748649</td>\n",
       "      <td>V1083</td>\n",
       "      <td>9</td>\n",
       "    </tr>\n",
       "    <tr>\n",
       "      <th>1</th>\n",
       "      <td>13781225</td>\n",
       "      <td>21231709</td>\n",
       "      <td>3572</td>\n",
       "      <td>9</td>\n",
       "    </tr>\n",
       "    <tr>\n",
       "      <th>2</th>\n",
       "      <td>13786252</td>\n",
       "      <td>21097730</td>\n",
       "      <td>36250</td>\n",
       "      <td>9</td>\n",
       "    </tr>\n",
       "    <tr>\n",
       "      <th>3</th>\n",
       "      <td>13799390</td>\n",
       "      <td>22090873</td>\n",
       "      <td>V8535</td>\n",
       "      <td>9</td>\n",
       "    </tr>\n",
       "    <tr>\n",
       "      <th>4</th>\n",
       "      <td>13870030</td>\n",
       "      <td>28791864</td>\n",
       "      <td>2572</td>\n",
       "      <td>9</td>\n",
       "    </tr>\n",
       "    <tr>\n",
       "      <th>5</th>\n",
       "      <td>13872674</td>\n",
       "      <td>25090386</td>\n",
       "      <td>60784</td>\n",
       "      <td>9</td>\n",
       "    </tr>\n",
       "    <tr>\n",
       "      <th>6</th>\n",
       "      <td>13886433</td>\n",
       "      <td>29507168</td>\n",
       "      <td>7840</td>\n",
       "      <td>9</td>\n",
       "    </tr>\n",
       "    <tr>\n",
       "      <th>7</th>\n",
       "      <td>13916179</td>\n",
       "      <td>28451236</td>\n",
       "      <td>2858</td>\n",
       "      <td>9</td>\n",
       "    </tr>\n",
       "    <tr>\n",
       "      <th>8</th>\n",
       "      <td>13962855</td>\n",
       "      <td>24639924</td>\n",
       "      <td>2762</td>\n",
       "      <td>9</td>\n",
       "    </tr>\n",
       "    <tr>\n",
       "      <th>9</th>\n",
       "      <td>13993861</td>\n",
       "      <td>28782751</td>\n",
       "      <td>2859</td>\n",
       "      <td>9</td>\n",
       "    </tr>\n",
       "  </tbody>\n",
       "</table>\n",
       "</div>"
      ],
      "text/plain": [
       "   subject_id   hadm_id icd_code  icd_version\n",
       "0    13757356  22748649    V1083            9\n",
       "1    13781225  21231709     3572            9\n",
       "2    13786252  21097730    36250            9\n",
       "3    13799390  22090873    V8535            9\n",
       "4    13870030  28791864     2572            9\n",
       "5    13872674  25090386    60784            9\n",
       "6    13886433  29507168     7840            9\n",
       "7    13916179  28451236     2858            9\n",
       "8    13962855  24639924     2762            9\n",
       "9    13993861  28782751     2859            9"
      ]
     },
     "execution_count": 18,
     "metadata": {},
     "output_type": "execute_result"
    }
   ],
   "source": [
    "diag.head(10)"
   ]
  },
  {
   "cell_type": "code",
   "execution_count": 19,
   "metadata": {
    "executionInfo": {
     "elapsed": 9423,
     "status": "ok",
     "timestamp": 1746102120689,
     "user": {
      "displayName": "Yahya Loughribi",
      "userId": "15992529283825579695"
     },
     "user_tz": -120
    },
    "id": "zb1jCQ_5yzpu"
   },
   "outputs": [],
   "source": [
    "adm = pd.read_csv('CSV files\\\\admissions_table.csv')"
   ]
  },
  {
   "cell_type": "code",
   "execution_count": 20,
   "metadata": {
    "colab": {
     "base_uri": "https://localhost:8080/",
     "height": 206
    },
    "executionInfo": {
     "elapsed": 10,
     "status": "ok",
     "timestamp": 1746102123360,
     "user": {
      "displayName": "Yahya Loughribi",
      "userId": "15992529283825579695"
     },
     "user_tz": -120
    },
    "id": "ohdj1IZry9U-",
    "outputId": "ec990f9c-51c6-4ce6-ffba-a24edaa8366d"
   },
   "outputs": [
    {
     "data": {
      "text/html": [
       "<div>\n",
       "<style scoped>\n",
       "    .dataframe tbody tr th:only-of-type {\n",
       "        vertical-align: middle;\n",
       "    }\n",
       "\n",
       "    .dataframe tbody tr th {\n",
       "        vertical-align: top;\n",
       "    }\n",
       "\n",
       "    .dataframe thead th {\n",
       "        text-align: right;\n",
       "    }\n",
       "</style>\n",
       "<table border=\"1\" class=\"dataframe\">\n",
       "  <thead>\n",
       "    <tr style=\"text-align: right;\">\n",
       "      <th></th>\n",
       "      <th>subject_id</th>\n",
       "      <th>hadm_id</th>\n",
       "      <th>admittime</th>\n",
       "      <th>dischtime</th>\n",
       "    </tr>\n",
       "  </thead>\n",
       "  <tbody>\n",
       "    <tr>\n",
       "      <th>0</th>\n",
       "      <td>10106244</td>\n",
       "      <td>26713233</td>\n",
       "      <td>2147-05-09 10:34:00</td>\n",
       "      <td>2147-05-12 13:43:00</td>\n",
       "    </tr>\n",
       "    <tr>\n",
       "      <th>1</th>\n",
       "      <td>10106244</td>\n",
       "      <td>26738324</td>\n",
       "      <td>2147-05-09 10:34:00</td>\n",
       "      <td>2147-05-12 13:43:00</td>\n",
       "    </tr>\n",
       "    <tr>\n",
       "      <th>2</th>\n",
       "      <td>10106244</td>\n",
       "      <td>22486493</td>\n",
       "      <td>2147-05-09 10:34:00</td>\n",
       "      <td>2147-05-12 13:43:00</td>\n",
       "    </tr>\n",
       "    <tr>\n",
       "      <th>3</th>\n",
       "      <td>15443666</td>\n",
       "      <td>22294409</td>\n",
       "      <td>2168-12-30 23:30:00</td>\n",
       "      <td>2169-01-05 16:02:00</td>\n",
       "    </tr>\n",
       "    <tr>\n",
       "      <th>4</th>\n",
       "      <td>15443666</td>\n",
       "      <td>24613632</td>\n",
       "      <td>2168-12-30 23:30:00</td>\n",
       "      <td>2169-01-05 16:02:00</td>\n",
       "    </tr>\n",
       "    <tr>\n",
       "      <th>5</th>\n",
       "      <td>15443666</td>\n",
       "      <td>25959308</td>\n",
       "      <td>2168-12-30 23:30:00</td>\n",
       "      <td>2169-01-05 16:02:00</td>\n",
       "    </tr>\n",
       "    <tr>\n",
       "      <th>6</th>\n",
       "      <td>15443666</td>\n",
       "      <td>22121441</td>\n",
       "      <td>2168-12-30 23:30:00</td>\n",
       "      <td>2169-01-05 16:02:00</td>\n",
       "    </tr>\n",
       "    <tr>\n",
       "      <th>7</th>\n",
       "      <td>15443666</td>\n",
       "      <td>27961368</td>\n",
       "      <td>2168-12-30 23:30:00</td>\n",
       "      <td>2169-01-05 16:02:00</td>\n",
       "    </tr>\n",
       "    <tr>\n",
       "      <th>8</th>\n",
       "      <td>15443666</td>\n",
       "      <td>29035604</td>\n",
       "      <td>2168-12-30 23:30:00</td>\n",
       "      <td>2169-01-05 16:02:00</td>\n",
       "    </tr>\n",
       "    <tr>\n",
       "      <th>9</th>\n",
       "      <td>16299919</td>\n",
       "      <td>29997664</td>\n",
       "      <td>2193-05-15 08:37:00</td>\n",
       "      <td>2193-05-17 16:03:00</td>\n",
       "    </tr>\n",
       "  </tbody>\n",
       "</table>\n",
       "</div>"
      ],
      "text/plain": [
       "   subject_id   hadm_id            admittime            dischtime\n",
       "0    10106244  26713233  2147-05-09 10:34:00  2147-05-12 13:43:00\n",
       "1    10106244  26738324  2147-05-09 10:34:00  2147-05-12 13:43:00\n",
       "2    10106244  22486493  2147-05-09 10:34:00  2147-05-12 13:43:00\n",
       "3    15443666  22294409  2168-12-30 23:30:00  2169-01-05 16:02:00\n",
       "4    15443666  24613632  2168-12-30 23:30:00  2169-01-05 16:02:00\n",
       "5    15443666  25959308  2168-12-30 23:30:00  2169-01-05 16:02:00\n",
       "6    15443666  22121441  2168-12-30 23:30:00  2169-01-05 16:02:00\n",
       "7    15443666  27961368  2168-12-30 23:30:00  2169-01-05 16:02:00\n",
       "8    15443666  29035604  2168-12-30 23:30:00  2169-01-05 16:02:00\n",
       "9    16299919  29997664  2193-05-15 08:37:00  2193-05-17 16:03:00"
      ]
     },
     "execution_count": 20,
     "metadata": {},
     "output_type": "execute_result"
    }
   ],
   "source": [
    "adm.head(10)"
   ]
  },
  {
   "cell_type": "code",
   "execution_count": 21,
   "metadata": {
    "id": "AGsc0I3AzA3j"
   },
   "outputs": [],
   "source": [
    "diag_df = diag.merge(adm, on=['subject_id', 'hadm_id'])"
   ]
  },
  {
   "cell_type": "code",
   "execution_count": 22,
   "metadata": {},
   "outputs": [
    {
     "data": {
      "text/html": [
       "<div>\n",
       "<style scoped>\n",
       "    .dataframe tbody tr th:only-of-type {\n",
       "        vertical-align: middle;\n",
       "    }\n",
       "\n",
       "    .dataframe tbody tr th {\n",
       "        vertical-align: top;\n",
       "    }\n",
       "\n",
       "    .dataframe thead th {\n",
       "        text-align: right;\n",
       "    }\n",
       "</style>\n",
       "<table border=\"1\" class=\"dataframe\">\n",
       "  <thead>\n",
       "    <tr style=\"text-align: right;\">\n",
       "      <th></th>\n",
       "      <th>subject_id</th>\n",
       "      <th>hadm_id</th>\n",
       "      <th>icd_code</th>\n",
       "      <th>icd_version</th>\n",
       "      <th>admittime</th>\n",
       "      <th>dischtime</th>\n",
       "    </tr>\n",
       "  </thead>\n",
       "  <tbody>\n",
       "    <tr>\n",
       "      <th>0</th>\n",
       "      <td>13757356</td>\n",
       "      <td>22748649</td>\n",
       "      <td>V1083</td>\n",
       "      <td>9</td>\n",
       "      <td>2142-11-11 21:51:00</td>\n",
       "      <td>2142-11-12 12:34:00</td>\n",
       "    </tr>\n",
       "    <tr>\n",
       "      <th>1</th>\n",
       "      <td>13757356</td>\n",
       "      <td>22748649</td>\n",
       "      <td>V1083</td>\n",
       "      <td>9</td>\n",
       "      <td>2148-04-01 21:22:00</td>\n",
       "      <td>2148-04-03 14:32:00</td>\n",
       "    </tr>\n",
       "    <tr>\n",
       "      <th>2</th>\n",
       "      <td>13757356</td>\n",
       "      <td>22748649</td>\n",
       "      <td>V1083</td>\n",
       "      <td>9</td>\n",
       "      <td>2148-04-03 19:53:00</td>\n",
       "      <td>2148-04-05 14:08:00</td>\n",
       "    </tr>\n",
       "    <tr>\n",
       "      <th>3</th>\n",
       "      <td>13757356</td>\n",
       "      <td>22748649</td>\n",
       "      <td>V1083</td>\n",
       "      <td>9</td>\n",
       "      <td>2149-09-18 22:18:00</td>\n",
       "      <td>2149-09-19 17:08:00</td>\n",
       "    </tr>\n",
       "    <tr>\n",
       "      <th>4</th>\n",
       "      <td>13757356</td>\n",
       "      <td>22748649</td>\n",
       "      <td>V1083</td>\n",
       "      <td>9</td>\n",
       "      <td>2148-07-21 06:40:00</td>\n",
       "      <td>2148-07-30 17:00:00</td>\n",
       "    </tr>\n",
       "    <tr>\n",
       "      <th>5</th>\n",
       "      <td>13757356</td>\n",
       "      <td>22748649</td>\n",
       "      <td>V1083</td>\n",
       "      <td>9</td>\n",
       "      <td>2147-06-19 19:56:00</td>\n",
       "      <td>2147-06-21 17:46:00</td>\n",
       "    </tr>\n",
       "    <tr>\n",
       "      <th>6</th>\n",
       "      <td>13757356</td>\n",
       "      <td>22748649</td>\n",
       "      <td>V1083</td>\n",
       "      <td>9</td>\n",
       "      <td>2148-02-25 20:41:00</td>\n",
       "      <td>2148-03-01 16:00:00</td>\n",
       "    </tr>\n",
       "    <tr>\n",
       "      <th>7</th>\n",
       "      <td>13757356</td>\n",
       "      <td>22748649</td>\n",
       "      <td>V1083</td>\n",
       "      <td>9</td>\n",
       "      <td>2148-06-29 01:10:00</td>\n",
       "      <td>2148-07-03 15:50:00</td>\n",
       "    </tr>\n",
       "    <tr>\n",
       "      <th>8</th>\n",
       "      <td>13781225</td>\n",
       "      <td>21231709</td>\n",
       "      <td>3572</td>\n",
       "      <td>9</td>\n",
       "      <td>2130-02-27 04:47:00</td>\n",
       "      <td>2130-03-05 16:35:00</td>\n",
       "    </tr>\n",
       "    <tr>\n",
       "      <th>9</th>\n",
       "      <td>13786252</td>\n",
       "      <td>21097730</td>\n",
       "      <td>36250</td>\n",
       "      <td>9</td>\n",
       "      <td>2142-12-01 01:10:00</td>\n",
       "      <td>2142-12-11 15:11:00</td>\n",
       "    </tr>\n",
       "  </tbody>\n",
       "</table>\n",
       "</div>"
      ],
      "text/plain": [
       "   subject_id   hadm_id icd_code  icd_version            admittime  \\\n",
       "0    13757356  22748649    V1083            9  2142-11-11 21:51:00   \n",
       "1    13757356  22748649    V1083            9  2148-04-01 21:22:00   \n",
       "2    13757356  22748649    V1083            9  2148-04-03 19:53:00   \n",
       "3    13757356  22748649    V1083            9  2149-09-18 22:18:00   \n",
       "4    13757356  22748649    V1083            9  2148-07-21 06:40:00   \n",
       "5    13757356  22748649    V1083            9  2147-06-19 19:56:00   \n",
       "6    13757356  22748649    V1083            9  2148-02-25 20:41:00   \n",
       "7    13757356  22748649    V1083            9  2148-06-29 01:10:00   \n",
       "8    13781225  21231709     3572            9  2130-02-27 04:47:00   \n",
       "9    13786252  21097730    36250            9  2142-12-01 01:10:00   \n",
       "\n",
       "             dischtime  \n",
       "0  2142-11-12 12:34:00  \n",
       "1  2148-04-03 14:32:00  \n",
       "2  2148-04-05 14:08:00  \n",
       "3  2149-09-19 17:08:00  \n",
       "4  2148-07-30 17:00:00  \n",
       "5  2147-06-21 17:46:00  \n",
       "6  2148-03-01 16:00:00  \n",
       "7  2148-07-03 15:50:00  \n",
       "8  2130-03-05 16:35:00  \n",
       "9  2142-12-11 15:11:00  "
      ]
     },
     "execution_count": 22,
     "metadata": {},
     "output_type": "execute_result"
    }
   ],
   "source": [
    "diag_df.head(10)"
   ]
  },
  {
   "cell_type": "code",
   "execution_count": 23,
   "metadata": {},
   "outputs": [
    {
     "data": {
      "text/plain": [
       "(44474993, 6)"
      ]
     },
     "execution_count": 23,
     "metadata": {},
     "output_type": "execute_result"
    }
   ],
   "source": [
    "diag_df.shape"
   ]
  },
  {
   "cell_type": "code",
   "execution_count": 24,
   "metadata": {},
   "outputs": [
    {
     "name": "stderr",
     "output_type": "stream",
     "text": [
      "2025-05-07 15:35:08.923 Thread 'MainThread': missing ScriptRunContext! This warning can be ignored when running in bare mode.\n",
      "2025-05-07 15:35:08.924 Thread 'MainThread': missing ScriptRunContext! This warning can be ignored when running in bare mode.\n",
      "2025-05-07 15:35:09.132 Thread 'MainThread': missing ScriptRunContext! This warning can be ignored when running in bare mode.\n",
      "2025-05-07 15:35:09.133 Thread 'MainThread': missing ScriptRunContext! This warning can be ignored when running in bare mode.\n",
      "2025-05-07 15:35:09.157 Thread 'MainThread': missing ScriptRunContext! This warning can be ignored when running in bare mode.\n",
      "2025-05-07 15:35:09.165 Thread 'MainThread': missing ScriptRunContext! This warning can be ignored when running in bare mode.\n",
      "2025-05-07 15:35:09.165 Session state does not function when running a script without `streamlit run`\n",
      "2025-05-07 15:35:09.169 Thread 'MainThread': missing ScriptRunContext! This warning can be ignored when running in bare mode.\n",
      "2025-05-07 15:35:09.171 Thread 'MainThread': missing ScriptRunContext! This warning can be ignored when running in bare mode.\n",
      "2025-05-07 15:35:09.307 Thread 'MainThread': missing ScriptRunContext! This warning can be ignored when running in bare mode.\n",
      "2025-05-07 15:35:09.307 Thread 'MainThread': missing ScriptRunContext! This warning can be ignored when running in bare mode.\n",
      "2025-05-07 15:35:09.308 Thread 'MainThread': missing ScriptRunContext! This warning can be ignored when running in bare mode.\n",
      "2025-05-07 15:35:09.308 Thread 'MainThread': missing ScriptRunContext! This warning can be ignored when running in bare mode.\n"
     ]
    },
    {
     "data": {
      "text/plain": [
       "DeltaGenerator()"
      ]
     },
     "execution_count": 24,
     "metadata": {},
     "output_type": "execute_result"
    }
   ],
   "source": [
    "import streamlit as st\n",
    "import pandas as pd\n",
    "import plotly.express as px\n",
    "\n",
    "# Load your combined CSV or DataFrame\n",
    "df = diag_df.copy()\n",
    "\n",
    "st.title(\"ICD Code Timeline by Subject\")\n",
    "\n",
    "# Optional: filter by subject_id or hadm_id\n",
    "subject_ids = df['subject_id'].unique()\n",
    "selected_subject = st.selectbox(\"Select Subject ID\", subject_ids)\n",
    "\n",
    "filtered_df = df[df['subject_id'] == selected_subject]\n",
    "\n",
    "# Create timeline plot\n",
    "fig = px.timeline(\n",
    "    filtered_df,\n",
    "    x_start=\"admittime\",\n",
    "    x_end=\"dischtime\",\n",
    "    y=\"icd_code\",\n",
    "    color=\"icd_version\",\n",
    "    title=f\"ICD Diagnosis Timeline for Subject {selected_subject}\",\n",
    "    hover_data=[\"hadm_id\"]\n",
    ")\n",
    "\n",
    "fig.update_yaxes(autorange=\"reversed\")  # Timeline style\n",
    "st.plotly_chart(fig, use_container_width=True)\n"
   ]
  }
 ],
 "metadata": {
  "colab": {
   "authorship_tag": "ABX9TyOT770SCaFK/4urxotTOhPa",
   "provenance": []
  },
  "kernelspec": {
   "display_name": "mimic-env",
   "language": "python",
   "name": "python3"
  },
  "language_info": {
   "codemirror_mode": {
    "name": "ipython",
    "version": 3
   },
   "file_extension": ".py",
   "mimetype": "text/x-python",
   "name": "python",
   "nbconvert_exporter": "python",
   "pygments_lexer": "ipython3",
   "version": "3.13.3"
  }
 },
 "nbformat": 4,
 "nbformat_minor": 0
}
