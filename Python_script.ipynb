{
 "cells": [
  {
   "cell_type": "markdown",
   "metadata": {},
   "source": [
    "## Loading Packages and Tables"
   ]
  },
  {
   "cell_type": "code",
   "execution_count": 1,
   "metadata": {
    "executionInfo": {
     "elapsed": 7,
     "status": "ok",
     "timestamp": 1746101559479,
     "user": {
      "displayName": "Yahya Loughribi",
      "userId": "15992529283825579695"
     },
     "user_tz": -120
    },
    "id": "Ow-n67aOxp6A"
   },
   "outputs": [],
   "source": [
    "import pandas as pd\n",
    "import matplotlib.pyplot as plt\n",
    "import seaborn as sb\n",
    "import dask.dataframe as dd\n",
    "import streamlit as st\n",
    "import numpy as np"
   ]
  },
  {
   "cell_type": "code",
   "execution_count": 2,
   "metadata": {
    "executionInfo": {
     "elapsed": 4813,
     "status": "ok",
     "timestamp": 1746101565678,
     "user": {
      "displayName": "Yahya Loughribi",
      "userId": "15992529283825579695"
     },
     "user_tz": -120
    },
    "id": "2c59Wt-qkoWU"
   },
   "outputs": [],
   "source": [
    "diag = pd.read_csv('C:\\\\Users\\\\yahya\\\\Documents\\\\GitHub\\\\Internship\\\\CSV_files\\\\diagnoses_table.csv', dtype={\"icd_code\": \"object\"})\n"
   ]
  },
  {
   "cell_type": "code",
   "execution_count": 3,
   "metadata": {},
   "outputs": [],
   "source": [
    "def detect_icd_version(code):\n",
    "    code = str(code).strip().upper()\n",
    "    return 10 if code and code[0].isalpha() else 9\n",
    "\n",
    "# Apply to your DataFrame\n",
    "diag['icd_version'] = diag['icd_code'].apply(detect_icd_version)"
   ]
  },
  {
   "cell_type": "code",
   "execution_count": 4,
   "metadata": {
    "executionInfo": {
     "elapsed": 9423,
     "status": "ok",
     "timestamp": 1746102120689,
     "user": {
      "displayName": "Yahya Loughribi",
      "userId": "15992529283825579695"
     },
     "user_tz": -120
    },
    "id": "zb1jCQ_5yzpu"
   },
   "outputs": [],
   "source": [
    "admission = pd.read_csv('C:\\\\Users\\\\Yahya\\\\Documents\\\\GitHub\\\\Internship\\\\CSV_files\\\\admissions_table.csv')"
   ]
  },
  {
   "cell_type": "code",
   "execution_count": 5,
   "metadata": {
    "id": "AGsc0I3AzA3j"
   },
   "outputs": [],
   "source": [
    "diag_adm_table = diag.merge(admission, on=['subject_id', 'hadm_id'])\n",
    "diag_adm_table = diag_adm_table.sort_values(by=\"subject_id\")\n",
    "diag_adm_table = diag_adm_table.reset_index(drop=True)"
   ]
  },
  {
   "cell_type": "code",
   "execution_count": 6,
   "metadata": {},
   "outputs": [
    {
     "data": {
      "text/plain": [
       "(5071195, 6)"
      ]
     },
     "execution_count": 6,
     "metadata": {},
     "output_type": "execute_result"
    }
   ],
   "source": [
    "diag_adm_table.shape"
   ]
  },
  {
   "cell_type": "markdown",
   "metadata": {},
   "source": [
    "## Selecting CML patients"
   ]
  },
  {
   "cell_type": "code",
   "execution_count": 7,
   "metadata": {},
   "outputs": [],
   "source": [
    "icd9 = diag_adm_table[diag_adm_table['icd_code'].str.match(r'^\\d')]\n",
    "filtered_icd9 = icd9[(icd9['icd_code'].astype(float) >= 20500) & (icd9['icd_code'].astype(float) <= 20592)]"
   ]
  },
  {
   "cell_type": "code",
   "execution_count": 8,
   "metadata": {},
   "outputs": [
    {
     "data": {
      "text/plain": [
       "20500    924\n",
       "20501    405\n",
       "20510    260\n",
       "20502    176\n",
       "20511     67\n",
       "20530     16\n",
       "20512     10\n",
       "20581      2\n",
       "20580      2\n",
       "20590      1\n",
       "20531      1\n",
       "20591      1\n",
       "Name: icd_code, dtype: int64"
      ]
     },
     "execution_count": 8,
     "metadata": {},
     "output_type": "execute_result"
    }
   ],
   "source": [
    "filtered_icd9['icd_code'].value_counts()"
   ]
  },
  {
   "cell_type": "code",
   "execution_count": 9,
   "metadata": {},
   "outputs": [
    {
     "data": {
      "text/plain": [
       "(1865, 6)"
      ]
     },
     "execution_count": 9,
     "metadata": {},
     "output_type": "execute_result"
    }
   ],
   "source": [
    "filtered_icd9.shape"
   ]
  },
  {
   "cell_type": "code",
   "execution_count": 10,
   "metadata": {},
   "outputs": [],
   "source": [
    "icd10 = diag_adm_table[diag_adm_table['icd_code'].str.match(r'^[A-Z]')]\n",
    "filtered_icd10 = icd10[icd10['icd_code'].str.startswith('C92')]"
   ]
  },
  {
   "cell_type": "code",
   "execution_count": 11,
   "metadata": {},
   "outputs": [
    {
     "data": {
      "text/plain": [
       "(2134, 6)"
      ]
     },
     "execution_count": 11,
     "metadata": {},
     "output_type": "execute_result"
    }
   ],
   "source": [
    "filtered_icd10.shape"
   ]
  },
  {
   "cell_type": "code",
   "execution_count": 12,
   "metadata": {},
   "outputs": [
    {
     "data": {
      "text/plain": [
       "20500    924\n",
       "C9200    803\n",
       "C9201    429\n",
       "20501    405\n",
       "C9202    288\n",
       "20510    260\n",
       "C9210    219\n",
       "20502    176\n",
       "C92Z0     72\n",
       "C9211     72\n",
       "20511     67\n",
       "C9230     55\n",
       "C92Z1     43\n",
       "C92Z2     37\n",
       "C9240     29\n",
       "20530     16\n",
       "C9241     15\n",
       "C92A0     12\n",
       "C9290     11\n",
       "C9232     10\n",
       "C9231     10\n",
       "20512     10\n",
       "C9250      9\n",
       "C9220      6\n",
       "C9212      4\n",
       "C9251      2\n",
       "20580      2\n",
       "C92A1      2\n",
       "20581      2\n",
       "20591      1\n",
       "20531      1\n",
       "20590      1\n",
       "C9261      1\n",
       "C9260      1\n",
       "C9242      1\n",
       "C9221      1\n",
       "C9252      1\n",
       "C92A2      1\n",
       "Name: icd_code, dtype: int64"
      ]
     },
     "execution_count": 12,
     "metadata": {},
     "output_type": "execute_result"
    }
   ],
   "source": [
    "diag_cml = pd.concat([filtered_icd9, filtered_icd10])\n",
    "diag_cml = diag_cml.reset_index(drop=True)\n",
    "diag_cml['icd_code'].value_counts()"
   ]
  },
  {
   "cell_type": "code",
   "execution_count": 13,
   "metadata": {},
   "outputs": [
    {
     "data": {
      "text/plain": [
       "(3999, 6)"
      ]
     },
     "execution_count": 13,
     "metadata": {},
     "output_type": "execute_result"
    }
   ],
   "source": [
    "diag_cml.shape"
   ]
  },
  {
   "cell_type": "code",
   "execution_count": 14,
   "metadata": {},
   "outputs": [
    {
     "data": {
      "text/html": [
       "<div>\n",
       "<style scoped>\n",
       "    .dataframe tbody tr th:only-of-type {\n",
       "        vertical-align: middle;\n",
       "    }\n",
       "\n",
       "    .dataframe tbody tr th {\n",
       "        vertical-align: top;\n",
       "    }\n",
       "\n",
       "    .dataframe thead th {\n",
       "        text-align: right;\n",
       "    }\n",
       "</style>\n",
       "<table border=\"1\" class=\"dataframe\">\n",
       "  <thead>\n",
       "    <tr style=\"text-align: right;\">\n",
       "      <th></th>\n",
       "      <th>subject_id</th>\n",
       "      <th>hadm_id</th>\n",
       "      <th>icd_code</th>\n",
       "      <th>icd_version</th>\n",
       "      <th>admittime</th>\n",
       "      <th>dischtime</th>\n",
       "    </tr>\n",
       "  </thead>\n",
       "  <tbody>\n",
       "    <tr>\n",
       "      <th>0</th>\n",
       "      <td>10035631</td>\n",
       "      <td>29654498</td>\n",
       "      <td>20500</td>\n",
       "      <td>9</td>\n",
       "      <td>2113-07-17 17:15:00</td>\n",
       "      <td>2113-07-18 14:55:00</td>\n",
       "    </tr>\n",
       "    <tr>\n",
       "      <th>1</th>\n",
       "      <td>10035631</td>\n",
       "      <td>29462354</td>\n",
       "      <td>20500</td>\n",
       "      <td>9</td>\n",
       "      <td>2112-09-17 19:13:00</td>\n",
       "      <td>2112-10-17 01:41:00</td>\n",
       "    </tr>\n",
       "    <tr>\n",
       "      <th>2</th>\n",
       "      <td>10035631</td>\n",
       "      <td>20385771</td>\n",
       "      <td>20500</td>\n",
       "      <td>9</td>\n",
       "      <td>2112-12-04 00:00:00</td>\n",
       "      <td>2112-12-27 16:24:00</td>\n",
       "    </tr>\n",
       "    <tr>\n",
       "      <th>3</th>\n",
       "      <td>10035631</td>\n",
       "      <td>27496788</td>\n",
       "      <td>20500</td>\n",
       "      <td>9</td>\n",
       "      <td>2113-08-26 17:07:00</td>\n",
       "      <td>2113-08-29 15:18:00</td>\n",
       "    </tr>\n",
       "    <tr>\n",
       "      <th>4</th>\n",
       "      <td>10035631</td>\n",
       "      <td>24912093</td>\n",
       "      <td>20501</td>\n",
       "      <td>9</td>\n",
       "      <td>2112-10-22 00:00:00</td>\n",
       "      <td>2112-10-28 12:16:00</td>\n",
       "    </tr>\n",
       "    <tr>\n",
       "      <th>...</th>\n",
       "      <td>...</td>\n",
       "      <td>...</td>\n",
       "      <td>...</td>\n",
       "      <td>...</td>\n",
       "      <td>...</td>\n",
       "      <td>...</td>\n",
       "    </tr>\n",
       "    <tr>\n",
       "      <th>3994</th>\n",
       "      <td>19880967</td>\n",
       "      <td>24156760</td>\n",
       "      <td>C92A2</td>\n",
       "      <td>10</td>\n",
       "      <td>2175-11-05 19:29:00</td>\n",
       "      <td>2175-11-06 14:00:00</td>\n",
       "    </tr>\n",
       "    <tr>\n",
       "      <th>3995</th>\n",
       "      <td>19880967</td>\n",
       "      <td>24192368</td>\n",
       "      <td>C9200</td>\n",
       "      <td>10</td>\n",
       "      <td>2174-04-21 22:32:00</td>\n",
       "      <td>2174-05-22 18:54:00</td>\n",
       "    </tr>\n",
       "    <tr>\n",
       "      <th>3996</th>\n",
       "      <td>19912102</td>\n",
       "      <td>28143086</td>\n",
       "      <td>C9210</td>\n",
       "      <td>10</td>\n",
       "      <td>2185-08-16 01:21:00</td>\n",
       "      <td>2185-08-18 15:17:00</td>\n",
       "    </tr>\n",
       "    <tr>\n",
       "      <th>3997</th>\n",
       "      <td>19912102</td>\n",
       "      <td>27379197</td>\n",
       "      <td>C9210</td>\n",
       "      <td>10</td>\n",
       "      <td>2183-06-16 22:40:00</td>\n",
       "      <td>2183-07-06 19:35:00</td>\n",
       "    </tr>\n",
       "    <tr>\n",
       "      <th>3998</th>\n",
       "      <td>19922600</td>\n",
       "      <td>28932143</td>\n",
       "      <td>C92Z2</td>\n",
       "      <td>10</td>\n",
       "      <td>2131-01-04 19:55:00</td>\n",
       "      <td>2131-03-01 22:15:00</td>\n",
       "    </tr>\n",
       "  </tbody>\n",
       "</table>\n",
       "<p>3999 rows × 6 columns</p>\n",
       "</div>"
      ],
      "text/plain": [
       "      subject_id   hadm_id icd_code  icd_version            admittime  \\\n",
       "0       10035631  29654498    20500            9  2113-07-17 17:15:00   \n",
       "1       10035631  29462354    20500            9  2112-09-17 19:13:00   \n",
       "2       10035631  20385771    20500            9  2112-12-04 00:00:00   \n",
       "3       10035631  27496788    20500            9  2113-08-26 17:07:00   \n",
       "4       10035631  24912093    20501            9  2112-10-22 00:00:00   \n",
       "...          ...       ...      ...          ...                  ...   \n",
       "3994    19880967  24156760    C92A2           10  2175-11-05 19:29:00   \n",
       "3995    19880967  24192368    C9200           10  2174-04-21 22:32:00   \n",
       "3996    19912102  28143086    C9210           10  2185-08-16 01:21:00   \n",
       "3997    19912102  27379197    C9210           10  2183-06-16 22:40:00   \n",
       "3998    19922600  28932143    C92Z2           10  2131-01-04 19:55:00   \n",
       "\n",
       "                dischtime  \n",
       "0     2113-07-18 14:55:00  \n",
       "1     2112-10-17 01:41:00  \n",
       "2     2112-12-27 16:24:00  \n",
       "3     2113-08-29 15:18:00  \n",
       "4     2112-10-28 12:16:00  \n",
       "...                   ...  \n",
       "3994  2175-11-06 14:00:00  \n",
       "3995  2174-05-22 18:54:00  \n",
       "3996  2185-08-18 15:17:00  \n",
       "3997  2183-07-06 19:35:00  \n",
       "3998  2131-03-01 22:15:00  \n",
       "\n",
       "[3999 rows x 6 columns]"
      ]
     },
     "execution_count": 14,
     "metadata": {},
     "output_type": "execute_result"
    }
   ],
   "source": [
    "diag_cml"
   ]
  },
  {
   "cell_type": "code",
   "execution_count": 15,
   "metadata": {},
   "outputs": [],
   "source": [
    "diag_cml.to_csv(r\"C:\\Users\\Yahya\\Documents\\GitHub\\Internship\\CSV_files\\cml_diagnoses.csv\", index=False)"
   ]
  },
  {
   "cell_type": "code",
   "execution_count": 68,
   "metadata": {},
   "outputs": [
    {
     "name": "stdout",
     "output_type": "stream",
     "text": [
      "Unique patient numbers: 946 Leukemia Patients\n"
     ]
    }
   ],
   "source": [
    "print(f\"Unique patient numbers: {diag_cml['subject_id'].nunique()} Leukemia Patients\")"
   ]
  },
  {
   "cell_type": "markdown",
   "metadata": {},
   "source": [
    "## Selecting CVD patients"
   ]
  },
  {
   "cell_type": "code",
   "execution_count": 17,
   "metadata": {},
   "outputs": [],
   "source": [
    "ICD_9_dict = {\n",
    "    'hypertensive': range(401, 406),\n",
    "    'ischemic': range(410, 415),\n",
    "    'pulmonary': range(415, 418),\n",
    "    'other': range(420, 430),\n",
    "    'cerebrovascular': range(430, 439),\n",
    "    'arterioles': range(440, 450)\n",
    "}"
   ]
  },
  {
   "cell_type": "code",
   "execution_count": 18,
   "metadata": {},
   "outputs": [],
   "source": [
    "diag_icd9 = diag_adm_table[diag_adm_table['icd_code'].str.match(r'^\\d')]"
   ]
  },
  {
   "cell_type": "code",
   "execution_count": 19,
   "metadata": {},
   "outputs": [
    {
     "name": "stderr",
     "output_type": "stream",
     "text": [
      "c:\\Users\\Yahya\\Documents\\GitHub\\Internship\\venv\\lib\\site-packages\\ipykernel_launcher.py:1: SettingWithCopyWarning: \n",
      "A value is trying to be set on a copy of a slice from a DataFrame.\n",
      "Try using .loc[row_indexer,col_indexer] = value instead\n",
      "\n",
      "See the caveats in the documentation: https://pandas.pydata.org/pandas-docs/stable/user_guide/indexing.html#returning-a-view-versus-a-copy\n",
      "  \"\"\"Entry point for launching an IPython kernel.\n"
     ]
    }
   ],
   "source": [
    "diag_icd9['icd_code'] = diag_icd9['icd_code'].astype('int64')"
   ]
  },
  {
   "cell_type": "code",
   "execution_count": 20,
   "metadata": {},
   "outputs": [],
   "source": [
    "condition = None\n",
    "\n",
    "for name, icd_range in ICD_9_dict.items():\n",
    "    lower = min(icd_range)\n",
    "    upper = max(icd_range)\n",
    "    new_condition = (diag_icd9['icd_code'] >= lower) & (diag_icd9['icd_code'] <= upper)\n",
    "    \n",
    "    condition = new_condition if condition is None else (condition | new_condition)\n",
    "\n",
    "diag_cvd_9 = diag_icd9[condition]"
   ]
  },
  {
   "cell_type": "code",
   "execution_count": 21,
   "metadata": {},
   "outputs": [],
   "source": [
    "def get_icd9_category(icd_code):\n",
    "    try:\n",
    "        major = int(str(icd_code)[:3])\n",
    "        for category, code_range in ICD_9_dict.items():\n",
    "            if major in code_range:\n",
    "                return category\n",
    "    except:\n",
    "        return None"
   ]
  },
  {
   "cell_type": "code",
   "execution_count": 22,
   "metadata": {},
   "outputs": [
    {
     "name": "stderr",
     "output_type": "stream",
     "text": [
      "c:\\Users\\Yahya\\Documents\\GitHub\\Internship\\venv\\lib\\site-packages\\ipykernel_launcher.py:1: SettingWithCopyWarning: \n",
      "A value is trying to be set on a copy of a slice from a DataFrame.\n",
      "Try using .loc[row_indexer,col_indexer] = value instead\n",
      "\n",
      "See the caveats in the documentation: https://pandas.pydata.org/pandas-docs/stable/user_guide/indexing.html#returning-a-view-versus-a-copy\n",
      "  \"\"\"Entry point for launching an IPython kernel.\n"
     ]
    }
   ],
   "source": [
    "diag_cvd_9['cvd_category'] = diag_cvd_9['icd_code'].apply(get_icd9_category)"
   ]
  },
  {
   "cell_type": "code",
   "execution_count": 23,
   "metadata": {},
   "outputs": [
    {
     "data": {
      "text/plain": [
       "(23500, 7)"
      ]
     },
     "execution_count": 23,
     "metadata": {},
     "output_type": "execute_result"
    }
   ],
   "source": [
    "diag_cvd_9.shape"
   ]
  },
  {
   "cell_type": "code",
   "execution_count": 24,
   "metadata": {},
   "outputs": [
    {
     "data": {
      "text/plain": [
       "412    15201\n",
       "414     1950\n",
       "431     1887\n",
       "413     1528\n",
       "417     1231\n",
       "416      795\n",
       "430      737\n",
       "449      105\n",
       "415       63\n",
       "436        3\n",
       "Name: icd_code, dtype: int64"
      ]
     },
     "execution_count": 24,
     "metadata": {},
     "output_type": "execute_result"
    }
   ],
   "source": [
    "diag_cvd_9['icd_code'].sort_values().value_counts()"
   ]
  },
  {
   "cell_type": "code",
   "execution_count": 25,
   "metadata": {},
   "outputs": [],
   "source": [
    "diag_cvd_10 = diag_adm_table[diag_adm_table['icd_code'].str.startswith('I')]"
   ]
  },
  {
   "cell_type": "code",
   "execution_count": 26,
   "metadata": {},
   "outputs": [],
   "source": [
    "ICD_10_dict = {\n",
    "    'hypertensive': ['I10', 'I11', 'I12', 'I13', 'I15'],\n",
    "    'ischemic': ['I20', 'I21', 'I22', 'I23', 'I24', 'I25'],\n",
    "    'pulmonary': ['I26', 'I27'],\n",
    "    'other': ['I30', 'I31', 'I33', 'I34', 'I35', 'I36', 'I37', 'I38', 'I39'],\n",
    "    'cerebrovascular': ['I60', 'I61', 'I62', 'I63', 'I64', 'I65', 'I66', 'I67', 'I68', 'I69'],\n",
    "    'arterioles': ['I70', 'I71', 'I72', 'I73', 'I74', 'I77']\n",
    "}"
   ]
  },
  {
   "cell_type": "code",
   "execution_count": 27,
   "metadata": {},
   "outputs": [],
   "source": [
    "def get_icd10_category(icd_code):\n",
    "    try:\n",
    "        for category, prefixes in ICD_10_dict.items():\n",
    "            if any(icd_code.startswith(p) for p in prefixes):\n",
    "                return category\n",
    "    except:\n",
    "        return None"
   ]
  },
  {
   "cell_type": "code",
   "execution_count": 28,
   "metadata": {},
   "outputs": [
    {
     "name": "stderr",
     "output_type": "stream",
     "text": [
      "c:\\Users\\Yahya\\Documents\\GitHub\\Internship\\venv\\lib\\site-packages\\ipykernel_launcher.py:1: SettingWithCopyWarning: \n",
      "A value is trying to be set on a copy of a slice from a DataFrame.\n",
      "Try using .loc[row_indexer,col_indexer] = value instead\n",
      "\n",
      "See the caveats in the documentation: https://pandas.pydata.org/pandas-docs/stable/user_guide/indexing.html#returning-a-view-versus-a-copy\n",
      "  \"\"\"Entry point for launching an IPython kernel.\n"
     ]
    }
   ],
   "source": [
    "diag_cvd_10['cvd_category'] = diag_cvd_10['icd_code'].apply(get_icd10_category)\n"
   ]
  },
  {
   "cell_type": "code",
   "execution_count": 29,
   "metadata": {},
   "outputs": [],
   "source": [
    "diag_cvd = pd.concat([diag_cvd_9, diag_cvd_10])\n",
    "diag_cvd = diag_cvd.reset_index(drop=True)"
   ]
  },
  {
   "cell_type": "code",
   "execution_count": 30,
   "metadata": {},
   "outputs": [
    {
     "data": {
      "text/plain": [
       "(509603, 7)"
      ]
     },
     "execution_count": 30,
     "metadata": {},
     "output_type": "execute_result"
    }
   ],
   "source": [
    "diag_cvd.shape"
   ]
  },
  {
   "cell_type": "code",
   "execution_count": 31,
   "metadata": {},
   "outputs": [
    {
     "data": {
      "text/html": [
       "<div>\n",
       "<style scoped>\n",
       "    .dataframe tbody tr th:only-of-type {\n",
       "        vertical-align: middle;\n",
       "    }\n",
       "\n",
       "    .dataframe tbody tr th {\n",
       "        vertical-align: top;\n",
       "    }\n",
       "\n",
       "    .dataframe thead th {\n",
       "        text-align: right;\n",
       "    }\n",
       "</style>\n",
       "<table border=\"1\" class=\"dataframe\">\n",
       "  <thead>\n",
       "    <tr style=\"text-align: right;\">\n",
       "      <th></th>\n",
       "      <th>subject_id</th>\n",
       "      <th>hadm_id</th>\n",
       "      <th>icd_code</th>\n",
       "      <th>icd_version</th>\n",
       "      <th>admittime</th>\n",
       "      <th>dischtime</th>\n",
       "      <th>cvd_category</th>\n",
       "    </tr>\n",
       "  </thead>\n",
       "  <tbody>\n",
       "    <tr>\n",
       "      <th>0</th>\n",
       "      <td>10000764</td>\n",
       "      <td>27897940</td>\n",
       "      <td>412</td>\n",
       "      <td>9</td>\n",
       "      <td>2132-10-14 23:31:00</td>\n",
       "      <td>2132-10-19 16:30:00</td>\n",
       "      <td>ischemic</td>\n",
       "    </tr>\n",
       "    <tr>\n",
       "      <th>1</th>\n",
       "      <td>10000980</td>\n",
       "      <td>26913865</td>\n",
       "      <td>412</td>\n",
       "      <td>9</td>\n",
       "      <td>2189-06-27 07:38:00</td>\n",
       "      <td>2189-07-03 03:00:00</td>\n",
       "      <td>ischemic</td>\n",
       "    </tr>\n",
       "    <tr>\n",
       "      <th>2</th>\n",
       "      <td>10000980</td>\n",
       "      <td>25242409</td>\n",
       "      <td>412</td>\n",
       "      <td>9</td>\n",
       "      <td>2191-04-03 18:48:00</td>\n",
       "      <td>2191-04-11 16:21:00</td>\n",
       "      <td>ischemic</td>\n",
       "    </tr>\n",
       "    <tr>\n",
       "      <th>3</th>\n",
       "      <td>10000980</td>\n",
       "      <td>24947999</td>\n",
       "      <td>412</td>\n",
       "      <td>9</td>\n",
       "      <td>2190-11-06 20:57:00</td>\n",
       "      <td>2190-11-08 15:58:00</td>\n",
       "      <td>ischemic</td>\n",
       "    </tr>\n",
       "    <tr>\n",
       "      <th>4</th>\n",
       "      <td>10001176</td>\n",
       "      <td>23334588</td>\n",
       "      <td>412</td>\n",
       "      <td>9</td>\n",
       "      <td>2186-11-29 03:56:00</td>\n",
       "      <td>2186-12-02 15:00:00</td>\n",
       "      <td>ischemic</td>\n",
       "    </tr>\n",
       "    <tr>\n",
       "      <th>...</th>\n",
       "      <td>...</td>\n",
       "      <td>...</td>\n",
       "      <td>...</td>\n",
       "      <td>...</td>\n",
       "      <td>...</td>\n",
       "      <td>...</td>\n",
       "      <td>...</td>\n",
       "    </tr>\n",
       "    <tr>\n",
       "      <th>509598</th>\n",
       "      <td>19999828</td>\n",
       "      <td>29734428</td>\n",
       "      <td>I10</td>\n",
       "      <td>10</td>\n",
       "      <td>2147-07-18 16:23:00</td>\n",
       "      <td>2147-08-04 18:10:00</td>\n",
       "      <td>hypertensive</td>\n",
       "    </tr>\n",
       "    <tr>\n",
       "      <th>509599</th>\n",
       "      <td>19999828</td>\n",
       "      <td>29734428</td>\n",
       "      <td>I8390</td>\n",
       "      <td>10</td>\n",
       "      <td>2147-07-18 16:23:00</td>\n",
       "      <td>2147-08-04 18:10:00</td>\n",
       "      <td>None</td>\n",
       "    </tr>\n",
       "    <tr>\n",
       "      <th>509600</th>\n",
       "      <td>19999828</td>\n",
       "      <td>29734428</td>\n",
       "      <td>I9581</td>\n",
       "      <td>10</td>\n",
       "      <td>2147-07-18 16:23:00</td>\n",
       "      <td>2147-08-04 18:10:00</td>\n",
       "      <td>None</td>\n",
       "    </tr>\n",
       "    <tr>\n",
       "      <th>509601</th>\n",
       "      <td>19999828</td>\n",
       "      <td>25744818</td>\n",
       "      <td>I10</td>\n",
       "      <td>10</td>\n",
       "      <td>2149-01-08 16:44:00</td>\n",
       "      <td>2149-01-18 17:00:00</td>\n",
       "      <td>hypertensive</td>\n",
       "    </tr>\n",
       "    <tr>\n",
       "      <th>509602</th>\n",
       "      <td>19999828</td>\n",
       "      <td>25744818</td>\n",
       "      <td>I480</td>\n",
       "      <td>10</td>\n",
       "      <td>2149-01-08 16:44:00</td>\n",
       "      <td>2149-01-18 17:00:00</td>\n",
       "      <td>None</td>\n",
       "    </tr>\n",
       "  </tbody>\n",
       "</table>\n",
       "<p>509603 rows × 7 columns</p>\n",
       "</div>"
      ],
      "text/plain": [
       "        subject_id   hadm_id icd_code  icd_version            admittime  \\\n",
       "0         10000764  27897940      412            9  2132-10-14 23:31:00   \n",
       "1         10000980  26913865      412            9  2189-06-27 07:38:00   \n",
       "2         10000980  25242409      412            9  2191-04-03 18:48:00   \n",
       "3         10000980  24947999      412            9  2190-11-06 20:57:00   \n",
       "4         10001176  23334588      412            9  2186-11-29 03:56:00   \n",
       "...            ...       ...      ...          ...                  ...   \n",
       "509598    19999828  29734428      I10           10  2147-07-18 16:23:00   \n",
       "509599    19999828  29734428    I8390           10  2147-07-18 16:23:00   \n",
       "509600    19999828  29734428    I9581           10  2147-07-18 16:23:00   \n",
       "509601    19999828  25744818      I10           10  2149-01-08 16:44:00   \n",
       "509602    19999828  25744818     I480           10  2149-01-08 16:44:00   \n",
       "\n",
       "                  dischtime  cvd_category  \n",
       "0       2132-10-19 16:30:00      ischemic  \n",
       "1       2189-07-03 03:00:00      ischemic  \n",
       "2       2191-04-11 16:21:00      ischemic  \n",
       "3       2190-11-08 15:58:00      ischemic  \n",
       "4       2186-12-02 15:00:00      ischemic  \n",
       "...                     ...           ...  \n",
       "509598  2147-08-04 18:10:00  hypertensive  \n",
       "509599  2147-08-04 18:10:00          None  \n",
       "509600  2147-08-04 18:10:00          None  \n",
       "509601  2149-01-18 17:00:00  hypertensive  \n",
       "509602  2149-01-18 17:00:00          None  \n",
       "\n",
       "[509603 rows x 7 columns]"
      ]
     },
     "execution_count": 31,
     "metadata": {},
     "output_type": "execute_result"
    }
   ],
   "source": [
    "diag_cvd"
   ]
  },
  {
   "cell_type": "code",
   "execution_count": 32,
   "metadata": {},
   "outputs": [
    {
     "data": {
      "text/plain": [
       "13378"
      ]
     },
     "execution_count": 32,
     "metadata": {},
     "output_type": "execute_result"
    }
   ],
   "source": [
    "diag_cvd['subject_id'].value_counts(dropna=True).unique().sum()"
   ]
  },
  {
   "cell_type": "code",
   "execution_count": 33,
   "metadata": {},
   "outputs": [
    {
     "data": {
      "text/plain": [
       "NaN                185276\n",
       "hypertensive       137400\n",
       "ischemic           101714\n",
       "cerebrovascular     29951\n",
       "arterioles          21069\n",
       "pulmonary           17201\n",
       "other               16992\n",
       "Name: cvd_category, dtype: int64"
      ]
     },
     "execution_count": 33,
     "metadata": {},
     "output_type": "execute_result"
    }
   ],
   "source": [
    "diag_cvd['cvd_category'].value_counts(dropna=False)"
   ]
  },
  {
   "cell_type": "code",
   "execution_count": 34,
   "metadata": {},
   "outputs": [
    {
     "data": {
      "text/plain": [
       "(509603, 7)"
      ]
     },
     "execution_count": 34,
     "metadata": {},
     "output_type": "execute_result"
    }
   ],
   "source": [
    "# diag_cvd = diag_cvd.dropna()\n",
    "diag_cvd = diag_cvd.reset_index(drop=True)\n",
    "diag_cvd.shape"
   ]
  },
  {
   "cell_type": "code",
   "execution_count": 35,
   "metadata": {},
   "outputs": [],
   "source": [
    "cvd_dummies = pd.get_dummies(diag_cvd['cvd_category'])"
   ]
  },
  {
   "cell_type": "code",
   "execution_count": 36,
   "metadata": {},
   "outputs": [],
   "source": [
    "diag_cvd = pd.concat([diag_cvd, cvd_dummies], axis=1)\n",
    "diag_cvd = diag_cvd.drop('cvd_category', axis = 1)"
   ]
  },
  {
   "cell_type": "code",
   "execution_count": 37,
   "metadata": {},
   "outputs": [],
   "source": [
    "all_patients = pd.DataFrame({'subject_id': diag['subject_id'].unique()})"
   ]
  },
  {
   "cell_type": "code",
   "execution_count": 38,
   "metadata": {},
   "outputs": [],
   "source": [
    "cvd_dummies['subject_id'] = diag_cvd['subject_id']"
   ]
  },
  {
   "cell_type": "code",
   "execution_count": 39,
   "metadata": {},
   "outputs": [],
   "source": [
    "cvd_dummies_agg = cvd_dummies.groupby('subject_id').max().reset_index()"
   ]
  },
  {
   "cell_type": "code",
   "execution_count": 40,
   "metadata": {},
   "outputs": [],
   "source": [
    "diag_cvd = all_patients.merge(cvd_dummies_agg, on='subject_id', how='left')"
   ]
  },
  {
   "cell_type": "code",
   "execution_count": 41,
   "metadata": {},
   "outputs": [],
   "source": [
    "diag_cvd.fillna(0, inplace=True)"
   ]
  },
  {
   "cell_type": "code",
   "execution_count": 42,
   "metadata": {},
   "outputs": [
    {
     "data": {
      "text/plain": [
       "(141693, 7)"
      ]
     },
     "execution_count": 42,
     "metadata": {},
     "output_type": "execute_result"
    }
   ],
   "source": [
    "diag_cvd.shape"
   ]
  },
  {
   "cell_type": "code",
   "execution_count": 43,
   "metadata": {},
   "outputs": [
    {
     "data": {
      "text/html": [
       "<div>\n",
       "<style scoped>\n",
       "    .dataframe tbody tr th:only-of-type {\n",
       "        vertical-align: middle;\n",
       "    }\n",
       "\n",
       "    .dataframe tbody tr th {\n",
       "        vertical-align: top;\n",
       "    }\n",
       "\n",
       "    .dataframe thead th {\n",
       "        text-align: right;\n",
       "    }\n",
       "</style>\n",
       "<table border=\"1\" class=\"dataframe\">\n",
       "  <thead>\n",
       "    <tr style=\"text-align: right;\">\n",
       "      <th></th>\n",
       "      <th>subject_id</th>\n",
       "      <th>arterioles</th>\n",
       "      <th>cerebrovascular</th>\n",
       "      <th>hypertensive</th>\n",
       "      <th>ischemic</th>\n",
       "      <th>other</th>\n",
       "      <th>pulmonary</th>\n",
       "    </tr>\n",
       "  </thead>\n",
       "  <tbody>\n",
       "    <tr>\n",
       "      <th>0</th>\n",
       "      <td>10000032</td>\n",
       "      <td>0.0</td>\n",
       "      <td>0.0</td>\n",
       "      <td>0.0</td>\n",
       "      <td>0.0</td>\n",
       "      <td>0.0</td>\n",
       "      <td>0.0</td>\n",
       "    </tr>\n",
       "    <tr>\n",
       "      <th>1</th>\n",
       "      <td>10000117</td>\n",
       "      <td>0.0</td>\n",
       "      <td>0.0</td>\n",
       "      <td>0.0</td>\n",
       "      <td>0.0</td>\n",
       "      <td>1.0</td>\n",
       "      <td>0.0</td>\n",
       "    </tr>\n",
       "    <tr>\n",
       "      <th>2</th>\n",
       "      <td>10000635</td>\n",
       "      <td>0.0</td>\n",
       "      <td>0.0</td>\n",
       "      <td>1.0</td>\n",
       "      <td>0.0</td>\n",
       "      <td>0.0</td>\n",
       "      <td>0.0</td>\n",
       "    </tr>\n",
       "    <tr>\n",
       "      <th>3</th>\n",
       "      <td>10000690</td>\n",
       "      <td>0.0</td>\n",
       "      <td>0.0</td>\n",
       "      <td>0.0</td>\n",
       "      <td>0.0</td>\n",
       "      <td>0.0</td>\n",
       "      <td>0.0</td>\n",
       "    </tr>\n",
       "    <tr>\n",
       "      <th>4</th>\n",
       "      <td>10000764</td>\n",
       "      <td>0.0</td>\n",
       "      <td>0.0</td>\n",
       "      <td>0.0</td>\n",
       "      <td>1.0</td>\n",
       "      <td>0.0</td>\n",
       "      <td>0.0</td>\n",
       "    </tr>\n",
       "    <tr>\n",
       "      <th>...</th>\n",
       "      <td>...</td>\n",
       "      <td>...</td>\n",
       "      <td>...</td>\n",
       "      <td>...</td>\n",
       "      <td>...</td>\n",
       "      <td>...</td>\n",
       "      <td>...</td>\n",
       "    </tr>\n",
       "    <tr>\n",
       "      <th>141688</th>\n",
       "      <td>19999625</td>\n",
       "      <td>0.0</td>\n",
       "      <td>0.0</td>\n",
       "      <td>0.0</td>\n",
       "      <td>0.0</td>\n",
       "      <td>0.0</td>\n",
       "      <td>0.0</td>\n",
       "    </tr>\n",
       "    <tr>\n",
       "      <th>141689</th>\n",
       "      <td>19999784</td>\n",
       "      <td>0.0</td>\n",
       "      <td>0.0</td>\n",
       "      <td>1.0</td>\n",
       "      <td>0.0</td>\n",
       "      <td>0.0</td>\n",
       "      <td>0.0</td>\n",
       "    </tr>\n",
       "    <tr>\n",
       "      <th>141690</th>\n",
       "      <td>19999828</td>\n",
       "      <td>0.0</td>\n",
       "      <td>0.0</td>\n",
       "      <td>1.0</td>\n",
       "      <td>0.0</td>\n",
       "      <td>0.0</td>\n",
       "      <td>0.0</td>\n",
       "    </tr>\n",
       "    <tr>\n",
       "      <th>141691</th>\n",
       "      <td>19999840</td>\n",
       "      <td>0.0</td>\n",
       "      <td>0.0</td>\n",
       "      <td>0.0</td>\n",
       "      <td>0.0</td>\n",
       "      <td>0.0</td>\n",
       "      <td>0.0</td>\n",
       "    </tr>\n",
       "    <tr>\n",
       "      <th>141692</th>\n",
       "      <td>19999987</td>\n",
       "      <td>0.0</td>\n",
       "      <td>1.0</td>\n",
       "      <td>0.0</td>\n",
       "      <td>1.0</td>\n",
       "      <td>0.0</td>\n",
       "      <td>0.0</td>\n",
       "    </tr>\n",
       "  </tbody>\n",
       "</table>\n",
       "<p>141693 rows × 7 columns</p>\n",
       "</div>"
      ],
      "text/plain": [
       "        subject_id  arterioles  cerebrovascular  hypertensive  ischemic  \\\n",
       "0         10000032         0.0              0.0           0.0       0.0   \n",
       "1         10000117         0.0              0.0           0.0       0.0   \n",
       "2         10000635         0.0              0.0           1.0       0.0   \n",
       "3         10000690         0.0              0.0           0.0       0.0   \n",
       "4         10000764         0.0              0.0           0.0       1.0   \n",
       "...            ...         ...              ...           ...       ...   \n",
       "141688    19999625         0.0              0.0           0.0       0.0   \n",
       "141689    19999784         0.0              0.0           1.0       0.0   \n",
       "141690    19999828         0.0              0.0           1.0       0.0   \n",
       "141691    19999840         0.0              0.0           0.0       0.0   \n",
       "141692    19999987         0.0              1.0           0.0       1.0   \n",
       "\n",
       "        other  pulmonary  \n",
       "0         0.0        0.0  \n",
       "1         1.0        0.0  \n",
       "2         0.0        0.0  \n",
       "3         0.0        0.0  \n",
       "4         0.0        0.0  \n",
       "...       ...        ...  \n",
       "141688    0.0        0.0  \n",
       "141689    0.0        0.0  \n",
       "141690    0.0        0.0  \n",
       "141691    0.0        0.0  \n",
       "141692    0.0        0.0  \n",
       "\n",
       "[141693 rows x 7 columns]"
      ]
     },
     "execution_count": 43,
     "metadata": {},
     "output_type": "execute_result"
    }
   ],
   "source": [
    "diag_cvd"
   ]
  },
  {
   "cell_type": "markdown",
   "metadata": {},
   "source": [
    "## Merging CML and CVD tables and creating Categories and Dummy Variables"
   ]
  },
  {
   "cell_type": "code",
   "execution_count": 44,
   "metadata": {},
   "outputs": [],
   "source": [
    "diag_cvd = diag_cvd.merge(admission, on=['subject_id'])\n",
    "diag_cvd = diag_cvd.reset_index(drop=True)"
   ]
  },
  {
   "cell_type": "code",
   "execution_count": 69,
   "metadata": {},
   "outputs": [
    {
     "data": {
      "text/html": [
       "<div>\n",
       "<style scoped>\n",
       "    .dataframe tbody tr th:only-of-type {\n",
       "        vertical-align: middle;\n",
       "    }\n",
       "\n",
       "    .dataframe tbody tr th {\n",
       "        vertical-align: top;\n",
       "    }\n",
       "\n",
       "    .dataframe thead th {\n",
       "        text-align: right;\n",
       "    }\n",
       "</style>\n",
       "<table border=\"1\" class=\"dataframe\">\n",
       "  <thead>\n",
       "    <tr style=\"text-align: right;\">\n",
       "      <th></th>\n",
       "      <th>subject_id</th>\n",
       "      <th>hadm_id</th>\n",
       "      <th>icd_code</th>\n",
       "      <th>icd_version</th>\n",
       "      <th>admittime</th>\n",
       "      <th>dischtime</th>\n",
       "    </tr>\n",
       "  </thead>\n",
       "  <tbody>\n",
       "    <tr>\n",
       "      <th>0</th>\n",
       "      <td>10035631</td>\n",
       "      <td>29654498</td>\n",
       "      <td>20500</td>\n",
       "      <td>9</td>\n",
       "      <td>2113-07-17 17:15:00</td>\n",
       "      <td>2113-07-18 14:55:00</td>\n",
       "    </tr>\n",
       "    <tr>\n",
       "      <th>1</th>\n",
       "      <td>10035631</td>\n",
       "      <td>29462354</td>\n",
       "      <td>20500</td>\n",
       "      <td>9</td>\n",
       "      <td>2112-09-17 19:13:00</td>\n",
       "      <td>2112-10-17 01:41:00</td>\n",
       "    </tr>\n",
       "    <tr>\n",
       "      <th>2</th>\n",
       "      <td>10035631</td>\n",
       "      <td>20385771</td>\n",
       "      <td>20500</td>\n",
       "      <td>9</td>\n",
       "      <td>2112-12-04 00:00:00</td>\n",
       "      <td>2112-12-27 16:24:00</td>\n",
       "    </tr>\n",
       "    <tr>\n",
       "      <th>3</th>\n",
       "      <td>10035631</td>\n",
       "      <td>27496788</td>\n",
       "      <td>20500</td>\n",
       "      <td>9</td>\n",
       "      <td>2113-08-26 17:07:00</td>\n",
       "      <td>2113-08-29 15:18:00</td>\n",
       "    </tr>\n",
       "    <tr>\n",
       "      <th>4</th>\n",
       "      <td>10035631</td>\n",
       "      <td>24912093</td>\n",
       "      <td>20501</td>\n",
       "      <td>9</td>\n",
       "      <td>2112-10-22 00:00:00</td>\n",
       "      <td>2112-10-28 12:16:00</td>\n",
       "    </tr>\n",
       "    <tr>\n",
       "      <th>...</th>\n",
       "      <td>...</td>\n",
       "      <td>...</td>\n",
       "      <td>...</td>\n",
       "      <td>...</td>\n",
       "      <td>...</td>\n",
       "      <td>...</td>\n",
       "    </tr>\n",
       "    <tr>\n",
       "      <th>3994</th>\n",
       "      <td>19880967</td>\n",
       "      <td>24156760</td>\n",
       "      <td>C92A2</td>\n",
       "      <td>10</td>\n",
       "      <td>2175-11-05 19:29:00</td>\n",
       "      <td>2175-11-06 14:00:00</td>\n",
       "    </tr>\n",
       "    <tr>\n",
       "      <th>3995</th>\n",
       "      <td>19880967</td>\n",
       "      <td>24192368</td>\n",
       "      <td>C9200</td>\n",
       "      <td>10</td>\n",
       "      <td>2174-04-21 22:32:00</td>\n",
       "      <td>2174-05-22 18:54:00</td>\n",
       "    </tr>\n",
       "    <tr>\n",
       "      <th>3996</th>\n",
       "      <td>19912102</td>\n",
       "      <td>28143086</td>\n",
       "      <td>C9210</td>\n",
       "      <td>10</td>\n",
       "      <td>2185-08-16 01:21:00</td>\n",
       "      <td>2185-08-18 15:17:00</td>\n",
       "    </tr>\n",
       "    <tr>\n",
       "      <th>3997</th>\n",
       "      <td>19912102</td>\n",
       "      <td>27379197</td>\n",
       "      <td>C9210</td>\n",
       "      <td>10</td>\n",
       "      <td>2183-06-16 22:40:00</td>\n",
       "      <td>2183-07-06 19:35:00</td>\n",
       "    </tr>\n",
       "    <tr>\n",
       "      <th>3998</th>\n",
       "      <td>19922600</td>\n",
       "      <td>28932143</td>\n",
       "      <td>C92Z2</td>\n",
       "      <td>10</td>\n",
       "      <td>2131-01-04 19:55:00</td>\n",
       "      <td>2131-03-01 22:15:00</td>\n",
       "    </tr>\n",
       "  </tbody>\n",
       "</table>\n",
       "<p>3999 rows × 6 columns</p>\n",
       "</div>"
      ],
      "text/plain": [
       "      subject_id   hadm_id icd_code  icd_version            admittime  \\\n",
       "0       10035631  29654498    20500            9  2113-07-17 17:15:00   \n",
       "1       10035631  29462354    20500            9  2112-09-17 19:13:00   \n",
       "2       10035631  20385771    20500            9  2112-12-04 00:00:00   \n",
       "3       10035631  27496788    20500            9  2113-08-26 17:07:00   \n",
       "4       10035631  24912093    20501            9  2112-10-22 00:00:00   \n",
       "...          ...       ...      ...          ...                  ...   \n",
       "3994    19880967  24156760    C92A2           10  2175-11-05 19:29:00   \n",
       "3995    19880967  24192368    C9200           10  2174-04-21 22:32:00   \n",
       "3996    19912102  28143086    C9210           10  2185-08-16 01:21:00   \n",
       "3997    19912102  27379197    C9210           10  2183-06-16 22:40:00   \n",
       "3998    19922600  28932143    C92Z2           10  2131-01-04 19:55:00   \n",
       "\n",
       "                dischtime  \n",
       "0     2113-07-18 14:55:00  \n",
       "1     2112-10-17 01:41:00  \n",
       "2     2112-12-27 16:24:00  \n",
       "3     2113-08-29 15:18:00  \n",
       "4     2112-10-28 12:16:00  \n",
       "...                   ...  \n",
       "3994  2175-11-06 14:00:00  \n",
       "3995  2174-05-22 18:54:00  \n",
       "3996  2185-08-18 15:17:00  \n",
       "3997  2183-07-06 19:35:00  \n",
       "3998  2131-03-01 22:15:00  \n",
       "\n",
       "[3999 rows x 6 columns]"
      ]
     },
     "execution_count": 69,
     "metadata": {},
     "output_type": "execute_result"
    }
   ],
   "source": [
    "diag_cml"
   ]
  },
  {
   "cell_type": "code",
   "execution_count": 70,
   "metadata": {},
   "outputs": [
    {
     "data": {
      "text/html": [
       "<div>\n",
       "<style scoped>\n",
       "    .dataframe tbody tr th:only-of-type {\n",
       "        vertical-align: middle;\n",
       "    }\n",
       "\n",
       "    .dataframe tbody tr th {\n",
       "        vertical-align: top;\n",
       "    }\n",
       "\n",
       "    .dataframe thead th {\n",
       "        text-align: right;\n",
       "    }\n",
       "</style>\n",
       "<table border=\"1\" class=\"dataframe\">\n",
       "  <thead>\n",
       "    <tr style=\"text-align: right;\">\n",
       "      <th></th>\n",
       "      <th>subject_id</th>\n",
       "      <th>arterioles</th>\n",
       "      <th>cerebrovascular</th>\n",
       "      <th>hypertensive</th>\n",
       "      <th>ischemic</th>\n",
       "      <th>other</th>\n",
       "      <th>pulmonary</th>\n",
       "    </tr>\n",
       "  </thead>\n",
       "  <tbody>\n",
       "    <tr>\n",
       "      <th>0</th>\n",
       "      <td>10000032</td>\n",
       "      <td>0.0</td>\n",
       "      <td>0.0</td>\n",
       "      <td>0.0</td>\n",
       "      <td>0.0</td>\n",
       "      <td>0.0</td>\n",
       "      <td>0.0</td>\n",
       "    </tr>\n",
       "    <tr>\n",
       "      <th>1</th>\n",
       "      <td>10000117</td>\n",
       "      <td>0.0</td>\n",
       "      <td>0.0</td>\n",
       "      <td>0.0</td>\n",
       "      <td>0.0</td>\n",
       "      <td>1.0</td>\n",
       "      <td>0.0</td>\n",
       "    </tr>\n",
       "    <tr>\n",
       "      <th>2</th>\n",
       "      <td>10000635</td>\n",
       "      <td>0.0</td>\n",
       "      <td>0.0</td>\n",
       "      <td>1.0</td>\n",
       "      <td>0.0</td>\n",
       "      <td>0.0</td>\n",
       "      <td>0.0</td>\n",
       "    </tr>\n",
       "    <tr>\n",
       "      <th>3</th>\n",
       "      <td>10000690</td>\n",
       "      <td>0.0</td>\n",
       "      <td>0.0</td>\n",
       "      <td>0.0</td>\n",
       "      <td>0.0</td>\n",
       "      <td>0.0</td>\n",
       "      <td>0.0</td>\n",
       "    </tr>\n",
       "    <tr>\n",
       "      <th>4</th>\n",
       "      <td>10000764</td>\n",
       "      <td>0.0</td>\n",
       "      <td>0.0</td>\n",
       "      <td>0.0</td>\n",
       "      <td>1.0</td>\n",
       "      <td>0.0</td>\n",
       "      <td>0.0</td>\n",
       "    </tr>\n",
       "    <tr>\n",
       "      <th>...</th>\n",
       "      <td>...</td>\n",
       "      <td>...</td>\n",
       "      <td>...</td>\n",
       "      <td>...</td>\n",
       "      <td>...</td>\n",
       "      <td>...</td>\n",
       "      <td>...</td>\n",
       "    </tr>\n",
       "    <tr>\n",
       "      <th>141688</th>\n",
       "      <td>19999625</td>\n",
       "      <td>0.0</td>\n",
       "      <td>0.0</td>\n",
       "      <td>0.0</td>\n",
       "      <td>0.0</td>\n",
       "      <td>0.0</td>\n",
       "      <td>0.0</td>\n",
       "    </tr>\n",
       "    <tr>\n",
       "      <th>141689</th>\n",
       "      <td>19999784</td>\n",
       "      <td>0.0</td>\n",
       "      <td>0.0</td>\n",
       "      <td>1.0</td>\n",
       "      <td>0.0</td>\n",
       "      <td>0.0</td>\n",
       "      <td>0.0</td>\n",
       "    </tr>\n",
       "    <tr>\n",
       "      <th>141690</th>\n",
       "      <td>19999828</td>\n",
       "      <td>0.0</td>\n",
       "      <td>0.0</td>\n",
       "      <td>1.0</td>\n",
       "      <td>0.0</td>\n",
       "      <td>0.0</td>\n",
       "      <td>0.0</td>\n",
       "    </tr>\n",
       "    <tr>\n",
       "      <th>141691</th>\n",
       "      <td>19999840</td>\n",
       "      <td>0.0</td>\n",
       "      <td>0.0</td>\n",
       "      <td>0.0</td>\n",
       "      <td>0.0</td>\n",
       "      <td>0.0</td>\n",
       "      <td>0.0</td>\n",
       "    </tr>\n",
       "    <tr>\n",
       "      <th>141692</th>\n",
       "      <td>19999987</td>\n",
       "      <td>0.0</td>\n",
       "      <td>1.0</td>\n",
       "      <td>0.0</td>\n",
       "      <td>1.0</td>\n",
       "      <td>0.0</td>\n",
       "      <td>0.0</td>\n",
       "    </tr>\n",
       "  </tbody>\n",
       "</table>\n",
       "<p>141693 rows × 7 columns</p>\n",
       "</div>"
      ],
      "text/plain": [
       "        subject_id  arterioles  cerebrovascular  hypertensive  ischemic  \\\n",
       "0         10000032         0.0              0.0           0.0       0.0   \n",
       "1         10000117         0.0              0.0           0.0       0.0   \n",
       "2         10000635         0.0              0.0           1.0       0.0   \n",
       "3         10000690         0.0              0.0           0.0       0.0   \n",
       "4         10000764         0.0              0.0           0.0       1.0   \n",
       "...            ...         ...              ...           ...       ...   \n",
       "141688    19999625         0.0              0.0           0.0       0.0   \n",
       "141689    19999784         0.0              0.0           1.0       0.0   \n",
       "141690    19999828         0.0              0.0           1.0       0.0   \n",
       "141691    19999840         0.0              0.0           0.0       0.0   \n",
       "141692    19999987         0.0              1.0           0.0       1.0   \n",
       "\n",
       "        other  pulmonary  \n",
       "0         0.0        0.0  \n",
       "1         1.0        0.0  \n",
       "2         0.0        0.0  \n",
       "3         0.0        0.0  \n",
       "4         0.0        0.0  \n",
       "...       ...        ...  \n",
       "141688    0.0        0.0  \n",
       "141689    0.0        0.0  \n",
       "141690    0.0        0.0  \n",
       "141691    0.0        0.0  \n",
       "141692    0.0        0.0  \n",
       "\n",
       "[141693 rows x 7 columns]"
      ]
     },
     "execution_count": 70,
     "metadata": {},
     "output_type": "execute_result"
    }
   ],
   "source": [
    "diag_cvd_unique = diag_cvd[['subject_id', 'arterioles', 'cerebrovascular', 'hypertensive', 'ischemic', 'other', 'pulmonary']].drop_duplicates()\n",
    "diag_cvd_unique = diag_cvd_unique.reset_index(drop=True)\n",
    "diag_cvd_unique"
   ]
  },
  {
   "cell_type": "code",
   "execution_count": 71,
   "metadata": {},
   "outputs": [
    {
     "data": {
      "text/html": [
       "<div>\n",
       "<style scoped>\n",
       "    .dataframe tbody tr th:only-of-type {\n",
       "        vertical-align: middle;\n",
       "    }\n",
       "\n",
       "    .dataframe tbody tr th {\n",
       "        vertical-align: top;\n",
       "    }\n",
       "\n",
       "    .dataframe thead th {\n",
       "        text-align: right;\n",
       "    }\n",
       "</style>\n",
       "<table border=\"1\" class=\"dataframe\">\n",
       "  <thead>\n",
       "    <tr style=\"text-align: right;\">\n",
       "      <th></th>\n",
       "      <th>subject_id</th>\n",
       "      <th>arterioles</th>\n",
       "      <th>cerebrovascular</th>\n",
       "      <th>hypertensive</th>\n",
       "      <th>ischemic</th>\n",
       "      <th>other</th>\n",
       "      <th>pulmonary</th>\n",
       "      <th>hadm_id</th>\n",
       "      <th>admittime</th>\n",
       "      <th>dischtime</th>\n",
       "    </tr>\n",
       "  </thead>\n",
       "  <tbody>\n",
       "    <tr>\n",
       "      <th>0</th>\n",
       "      <td>10000032</td>\n",
       "      <td>0.0</td>\n",
       "      <td>0.0</td>\n",
       "      <td>0.0</td>\n",
       "      <td>0.0</td>\n",
       "      <td>0.0</td>\n",
       "      <td>0.0</td>\n",
       "      <td>29079034</td>\n",
       "      <td>2180-07-23 12:35:00</td>\n",
       "      <td>2180-07-25 17:55:00</td>\n",
       "    </tr>\n",
       "    <tr>\n",
       "      <th>1</th>\n",
       "      <td>10000117</td>\n",
       "      <td>0.0</td>\n",
       "      <td>0.0</td>\n",
       "      <td>0.0</td>\n",
       "      <td>0.0</td>\n",
       "      <td>1.0</td>\n",
       "      <td>0.0</td>\n",
       "      <td>22927623</td>\n",
       "      <td>2181-11-15 02:05:00</td>\n",
       "      <td>2181-11-15 14:52:00</td>\n",
       "    </tr>\n",
       "    <tr>\n",
       "      <th>2</th>\n",
       "      <td>10000117</td>\n",
       "      <td>0.0</td>\n",
       "      <td>0.0</td>\n",
       "      <td>0.0</td>\n",
       "      <td>0.0</td>\n",
       "      <td>1.0</td>\n",
       "      <td>0.0</td>\n",
       "      <td>27988844</td>\n",
       "      <td>2183-09-18 18:10:00</td>\n",
       "      <td>2183-09-21 16:30:00</td>\n",
       "    </tr>\n",
       "    <tr>\n",
       "      <th>3</th>\n",
       "      <td>10000635</td>\n",
       "      <td>0.0</td>\n",
       "      <td>0.0</td>\n",
       "      <td>1.0</td>\n",
       "      <td>0.0</td>\n",
       "      <td>0.0</td>\n",
       "      <td>0.0</td>\n",
       "      <td>20642640</td>\n",
       "      <td>2143-12-23 14:55:00</td>\n",
       "      <td>2143-12-24 12:52:00</td>\n",
       "    </tr>\n",
       "    <tr>\n",
       "      <th>4</th>\n",
       "      <td>10000635</td>\n",
       "      <td>0.0</td>\n",
       "      <td>0.0</td>\n",
       "      <td>1.0</td>\n",
       "      <td>0.0</td>\n",
       "      <td>0.0</td>\n",
       "      <td>0.0</td>\n",
       "      <td>26134563</td>\n",
       "      <td>2136-06-19 14:24:00</td>\n",
       "      <td>2136-06-20 11:30:00</td>\n",
       "    </tr>\n",
       "    <tr>\n",
       "      <th>...</th>\n",
       "      <td>...</td>\n",
       "      <td>...</td>\n",
       "      <td>...</td>\n",
       "      <td>...</td>\n",
       "      <td>...</td>\n",
       "      <td>...</td>\n",
       "      <td>...</td>\n",
       "      <td>...</td>\n",
       "      <td>...</td>\n",
       "      <td>...</td>\n",
       "    </tr>\n",
       "    <tr>\n",
       "      <th>354563</th>\n",
       "      <td>19999828</td>\n",
       "      <td>0.0</td>\n",
       "      <td>0.0</td>\n",
       "      <td>1.0</td>\n",
       "      <td>0.0</td>\n",
       "      <td>0.0</td>\n",
       "      <td>0.0</td>\n",
       "      <td>25744818</td>\n",
       "      <td>2149-01-08 16:44:00</td>\n",
       "      <td>2149-01-18 17:00:00</td>\n",
       "    </tr>\n",
       "    <tr>\n",
       "      <th>354564</th>\n",
       "      <td>19999828</td>\n",
       "      <td>0.0</td>\n",
       "      <td>0.0</td>\n",
       "      <td>1.0</td>\n",
       "      <td>0.0</td>\n",
       "      <td>0.0</td>\n",
       "      <td>0.0</td>\n",
       "      <td>29734428</td>\n",
       "      <td>2147-07-18 16:23:00</td>\n",
       "      <td>2147-08-04 18:10:00</td>\n",
       "    </tr>\n",
       "    <tr>\n",
       "      <th>354565</th>\n",
       "      <td>19999840</td>\n",
       "      <td>0.0</td>\n",
       "      <td>0.0</td>\n",
       "      <td>0.0</td>\n",
       "      <td>0.0</td>\n",
       "      <td>0.0</td>\n",
       "      <td>0.0</td>\n",
       "      <td>21033226</td>\n",
       "      <td>2164-09-10 13:47:00</td>\n",
       "      <td>2164-09-17 13:42:00</td>\n",
       "    </tr>\n",
       "    <tr>\n",
       "      <th>354566</th>\n",
       "      <td>19999840</td>\n",
       "      <td>0.0</td>\n",
       "      <td>0.0</td>\n",
       "      <td>0.0</td>\n",
       "      <td>0.0</td>\n",
       "      <td>0.0</td>\n",
       "      <td>0.0</td>\n",
       "      <td>26071774</td>\n",
       "      <td>2164-07-25 00:27:00</td>\n",
       "      <td>2164-07-28 12:15:00</td>\n",
       "    </tr>\n",
       "    <tr>\n",
       "      <th>354567</th>\n",
       "      <td>19999987</td>\n",
       "      <td>0.0</td>\n",
       "      <td>1.0</td>\n",
       "      <td>0.0</td>\n",
       "      <td>1.0</td>\n",
       "      <td>0.0</td>\n",
       "      <td>0.0</td>\n",
       "      <td>23865745</td>\n",
       "      <td>2145-11-02 21:38:00</td>\n",
       "      <td>2145-11-11 12:57:00</td>\n",
       "    </tr>\n",
       "  </tbody>\n",
       "</table>\n",
       "<p>354568 rows × 10 columns</p>\n",
       "</div>"
      ],
      "text/plain": [
       "        subject_id  arterioles  cerebrovascular  hypertensive  ischemic  \\\n",
       "0         10000032         0.0              0.0           0.0       0.0   \n",
       "1         10000117         0.0              0.0           0.0       0.0   \n",
       "2         10000117         0.0              0.0           0.0       0.0   \n",
       "3         10000635         0.0              0.0           1.0       0.0   \n",
       "4         10000635         0.0              0.0           1.0       0.0   \n",
       "...            ...         ...              ...           ...       ...   \n",
       "354563    19999828         0.0              0.0           1.0       0.0   \n",
       "354564    19999828         0.0              0.0           1.0       0.0   \n",
       "354565    19999840         0.0              0.0           0.0       0.0   \n",
       "354566    19999840         0.0              0.0           0.0       0.0   \n",
       "354567    19999987         0.0              1.0           0.0       1.0   \n",
       "\n",
       "        other  pulmonary   hadm_id            admittime            dischtime  \n",
       "0         0.0        0.0  29079034  2180-07-23 12:35:00  2180-07-25 17:55:00  \n",
       "1         1.0        0.0  22927623  2181-11-15 02:05:00  2181-11-15 14:52:00  \n",
       "2         1.0        0.0  27988844  2183-09-18 18:10:00  2183-09-21 16:30:00  \n",
       "3         0.0        0.0  20642640  2143-12-23 14:55:00  2143-12-24 12:52:00  \n",
       "4         0.0        0.0  26134563  2136-06-19 14:24:00  2136-06-20 11:30:00  \n",
       "...       ...        ...       ...                  ...                  ...  \n",
       "354563    0.0        0.0  25744818  2149-01-08 16:44:00  2149-01-18 17:00:00  \n",
       "354564    0.0        0.0  29734428  2147-07-18 16:23:00  2147-08-04 18:10:00  \n",
       "354565    0.0        0.0  21033226  2164-09-10 13:47:00  2164-09-17 13:42:00  \n",
       "354566    0.0        0.0  26071774  2164-07-25 00:27:00  2164-07-28 12:15:00  \n",
       "354567    0.0        0.0  23865745  2145-11-02 21:38:00  2145-11-11 12:57:00  \n",
       "\n",
       "[354568 rows x 10 columns]"
      ]
     },
     "execution_count": 71,
     "metadata": {},
     "output_type": "execute_result"
    }
   ],
   "source": [
    "diag_cvd"
   ]
  },
  {
   "cell_type": "code",
   "execution_count": 72,
   "metadata": {},
   "outputs": [],
   "source": [
    "# Keep only columns we need\n",
    "cml = diag_cml[['subject_id', 'admittime']].rename(columns={'admittime': 'cml_date'})\n",
    "cvd = diag_cvd[['subject_id', 'admittime']].rename(columns={'admittime': 'cvd_date'})\n"
   ]
  },
  {
   "cell_type": "code",
   "execution_count": 82,
   "metadata": {},
   "outputs": [],
   "source": [
    "cml['cml_date'] = pd.to_datetime(cml['cml_date'])\n",
    "cvd['cvd_date'] = pd.to_datetime(cvd['cvd_date'])"
   ]
  },
  {
   "cell_type": "code",
   "execution_count": 85,
   "metadata": {},
   "outputs": [
    {
     "data": {
      "text/html": [
       "<div>\n",
       "<style scoped>\n",
       "    .dataframe tbody tr th:only-of-type {\n",
       "        vertical-align: middle;\n",
       "    }\n",
       "\n",
       "    .dataframe tbody tr th {\n",
       "        vertical-align: top;\n",
       "    }\n",
       "\n",
       "    .dataframe thead th {\n",
       "        text-align: right;\n",
       "    }\n",
       "</style>\n",
       "<table border=\"1\" class=\"dataframe\">\n",
       "  <thead>\n",
       "    <tr style=\"text-align: right;\">\n",
       "      <th></th>\n",
       "      <th>subject_id</th>\n",
       "      <th>cml_date</th>\n",
       "    </tr>\n",
       "  </thead>\n",
       "  <tbody>\n",
       "    <tr>\n",
       "      <th>0</th>\n",
       "      <td>10035631</td>\n",
       "      <td>2113-07-17 17:15:00</td>\n",
       "    </tr>\n",
       "    <tr>\n",
       "      <th>1</th>\n",
       "      <td>10035631</td>\n",
       "      <td>2112-09-17 19:13:00</td>\n",
       "    </tr>\n",
       "    <tr>\n",
       "      <th>2</th>\n",
       "      <td>10035631</td>\n",
       "      <td>2112-12-04 00:00:00</td>\n",
       "    </tr>\n",
       "    <tr>\n",
       "      <th>3</th>\n",
       "      <td>10035631</td>\n",
       "      <td>2113-08-26 17:07:00</td>\n",
       "    </tr>\n",
       "    <tr>\n",
       "      <th>4</th>\n",
       "      <td>10035631</td>\n",
       "      <td>2112-10-22 00:00:00</td>\n",
       "    </tr>\n",
       "    <tr>\n",
       "      <th>5</th>\n",
       "      <td>10035631</td>\n",
       "      <td>2112-11-10 15:55:00</td>\n",
       "    </tr>\n",
       "    <tr>\n",
       "      <th>6</th>\n",
       "      <td>10070928</td>\n",
       "      <td>2187-07-17 12:03:00</td>\n",
       "    </tr>\n",
       "    <tr>\n",
       "      <th>7</th>\n",
       "      <td>10070928</td>\n",
       "      <td>2188-04-08 05:21:00</td>\n",
       "    </tr>\n",
       "    <tr>\n",
       "      <th>8</th>\n",
       "      <td>10070928</td>\n",
       "      <td>2187-06-07 16:08:00</td>\n",
       "    </tr>\n",
       "    <tr>\n",
       "      <th>9</th>\n",
       "      <td>10070928</td>\n",
       "      <td>2187-03-09 21:00:00</td>\n",
       "    </tr>\n",
       "    <tr>\n",
       "      <th>10</th>\n",
       "      <td>10070928</td>\n",
       "      <td>2187-04-27 22:19:00</td>\n",
       "    </tr>\n",
       "    <tr>\n",
       "      <th>11</th>\n",
       "      <td>10070928</td>\n",
       "      <td>2187-12-26 10:15:00</td>\n",
       "    </tr>\n",
       "    <tr>\n",
       "      <th>12</th>\n",
       "      <td>10070928</td>\n",
       "      <td>2186-04-06 10:57:00</td>\n",
       "    </tr>\n",
       "    <tr>\n",
       "      <th>13</th>\n",
       "      <td>10070928</td>\n",
       "      <td>2187-10-02 12:57:00</td>\n",
       "    </tr>\n",
       "    <tr>\n",
       "      <th>14</th>\n",
       "      <td>10070928</td>\n",
       "      <td>2187-11-16 13:00:00</td>\n",
       "    </tr>\n",
       "    <tr>\n",
       "      <th>15</th>\n",
       "      <td>10070928</td>\n",
       "      <td>2186-10-02 17:13:00</td>\n",
       "    </tr>\n",
       "    <tr>\n",
       "      <th>16</th>\n",
       "      <td>10070928</td>\n",
       "      <td>2187-08-21 09:41:00</td>\n",
       "    </tr>\n",
       "    <tr>\n",
       "      <th>17</th>\n",
       "      <td>10070928</td>\n",
       "      <td>2187-04-10 13:04:00</td>\n",
       "    </tr>\n",
       "    <tr>\n",
       "      <th>18</th>\n",
       "      <td>10070928</td>\n",
       "      <td>2187-08-24 20:31:00</td>\n",
       "    </tr>\n",
       "    <tr>\n",
       "      <th>19</th>\n",
       "      <td>10070928</td>\n",
       "      <td>2187-01-31 15:09:00</td>\n",
       "    </tr>\n",
       "    <tr>\n",
       "      <th>20</th>\n",
       "      <td>10070928</td>\n",
       "      <td>2187-01-08 22:57:00</td>\n",
       "    </tr>\n",
       "    <tr>\n",
       "      <th>21</th>\n",
       "      <td>10070928</td>\n",
       "      <td>2187-12-04 11:01:00</td>\n",
       "    </tr>\n",
       "    <tr>\n",
       "      <th>22</th>\n",
       "      <td>10070928</td>\n",
       "      <td>2187-05-28 13:46:00</td>\n",
       "    </tr>\n",
       "    <tr>\n",
       "      <th>23</th>\n",
       "      <td>10070928</td>\n",
       "      <td>2187-02-22 12:52:00</td>\n",
       "    </tr>\n",
       "    <tr>\n",
       "      <th>24</th>\n",
       "      <td>10070928</td>\n",
       "      <td>2188-02-28 12:09:00</td>\n",
       "    </tr>\n",
       "  </tbody>\n",
       "</table>\n",
       "</div>"
      ],
      "text/plain": [
       "    subject_id            cml_date\n",
       "0     10035631 2113-07-17 17:15:00\n",
       "1     10035631 2112-09-17 19:13:00\n",
       "2     10035631 2112-12-04 00:00:00\n",
       "3     10035631 2113-08-26 17:07:00\n",
       "4     10035631 2112-10-22 00:00:00\n",
       "5     10035631 2112-11-10 15:55:00\n",
       "6     10070928 2187-07-17 12:03:00\n",
       "7     10070928 2188-04-08 05:21:00\n",
       "8     10070928 2187-06-07 16:08:00\n",
       "9     10070928 2187-03-09 21:00:00\n",
       "10    10070928 2187-04-27 22:19:00\n",
       "11    10070928 2187-12-26 10:15:00\n",
       "12    10070928 2186-04-06 10:57:00\n",
       "13    10070928 2187-10-02 12:57:00\n",
       "14    10070928 2187-11-16 13:00:00\n",
       "15    10070928 2186-10-02 17:13:00\n",
       "16    10070928 2187-08-21 09:41:00\n",
       "17    10070928 2187-04-10 13:04:00\n",
       "18    10070928 2187-08-24 20:31:00\n",
       "19    10070928 2187-01-31 15:09:00\n",
       "20    10070928 2187-01-08 22:57:00\n",
       "21    10070928 2187-12-04 11:01:00\n",
       "22    10070928 2187-05-28 13:46:00\n",
       "23    10070928 2187-02-22 12:52:00\n",
       "24    10070928 2188-02-28 12:09:00"
      ]
     },
     "execution_count": 85,
     "metadata": {},
     "output_type": "execute_result"
    }
   ],
   "source": [
    "cml.head(25)"
   ]
  },
  {
   "cell_type": "code",
   "execution_count": 75,
   "metadata": {},
   "outputs": [
    {
     "data": {
      "text/plain": [
       "946"
      ]
     },
     "execution_count": 75,
     "metadata": {},
     "output_type": "execute_result"
    }
   ],
   "source": [
    "cml['subject_id'].nunique()"
   ]
  },
  {
   "cell_type": "code",
   "execution_count": 76,
   "metadata": {},
   "outputs": [
    {
     "data": {
      "text/plain": [
       "141693"
      ]
     },
     "execution_count": 76,
     "metadata": {},
     "output_type": "execute_result"
    }
   ],
   "source": [
    "cvd['subject_id'].nunique()"
   ]
  },
  {
   "cell_type": "code",
   "execution_count": 77,
   "metadata": {},
   "outputs": [],
   "source": [
    "cml_cvd = cml.merge(cvd, on='subject_id', how='left')\n",
    "cml_cvd = cml_cvd.reset_index(drop=True)"
   ]
  },
  {
   "cell_type": "code",
   "execution_count": 78,
   "metadata": {},
   "outputs": [
    {
     "data": {
      "text/html": [
       "<div>\n",
       "<style scoped>\n",
       "    .dataframe tbody tr th:only-of-type {\n",
       "        vertical-align: middle;\n",
       "    }\n",
       "\n",
       "    .dataframe tbody tr th {\n",
       "        vertical-align: top;\n",
       "    }\n",
       "\n",
       "    .dataframe thead th {\n",
       "        text-align: right;\n",
       "    }\n",
       "</style>\n",
       "<table border=\"1\" class=\"dataframe\">\n",
       "  <thead>\n",
       "    <tr style=\"text-align: right;\">\n",
       "      <th></th>\n",
       "      <th>subject_id</th>\n",
       "      <th>cml_date</th>\n",
       "      <th>cvd_date</th>\n",
       "    </tr>\n",
       "  </thead>\n",
       "  <tbody>\n",
       "    <tr>\n",
       "      <th>0</th>\n",
       "      <td>10035631</td>\n",
       "      <td>2113-07-17 17:15:00</td>\n",
       "      <td>2112-12-04 00:00:00</td>\n",
       "    </tr>\n",
       "    <tr>\n",
       "      <th>1</th>\n",
       "      <td>10035631</td>\n",
       "      <td>2113-07-17 17:15:00</td>\n",
       "      <td>2115-11-08 13:54:00</td>\n",
       "    </tr>\n",
       "    <tr>\n",
       "      <th>2</th>\n",
       "      <td>10035631</td>\n",
       "      <td>2113-07-17 17:15:00</td>\n",
       "      <td>2116-02-13 11:17:00</td>\n",
       "    </tr>\n",
       "    <tr>\n",
       "      <th>3</th>\n",
       "      <td>10035631</td>\n",
       "      <td>2113-07-17 17:15:00</td>\n",
       "      <td>2112-11-10 15:55:00</td>\n",
       "    </tr>\n",
       "    <tr>\n",
       "      <th>4</th>\n",
       "      <td>10035631</td>\n",
       "      <td>2113-07-17 17:15:00</td>\n",
       "      <td>2112-10-22 00:00:00</td>\n",
       "    </tr>\n",
       "    <tr>\n",
       "      <th>...</th>\n",
       "      <td>...</td>\n",
       "      <td>...</td>\n",
       "      <td>...</td>\n",
       "    </tr>\n",
       "    <tr>\n",
       "      <th>48061</th>\n",
       "      <td>19912102</td>\n",
       "      <td>2183-06-16 22:40:00</td>\n",
       "      <td>2185-08-16 01:21:00</td>\n",
       "    </tr>\n",
       "    <tr>\n",
       "      <th>48062</th>\n",
       "      <td>19922600</td>\n",
       "      <td>2131-01-04 19:55:00</td>\n",
       "      <td>2127-12-13 12:03:00</td>\n",
       "    </tr>\n",
       "    <tr>\n",
       "      <th>48063</th>\n",
       "      <td>19922600</td>\n",
       "      <td>2131-01-04 19:55:00</td>\n",
       "      <td>2127-09-20 13:46:00</td>\n",
       "    </tr>\n",
       "    <tr>\n",
       "      <th>48064</th>\n",
       "      <td>19922600</td>\n",
       "      <td>2131-01-04 19:55:00</td>\n",
       "      <td>2130-12-18 01:08:00</td>\n",
       "    </tr>\n",
       "    <tr>\n",
       "      <th>48065</th>\n",
       "      <td>19922600</td>\n",
       "      <td>2131-01-04 19:55:00</td>\n",
       "      <td>2131-01-04 19:55:00</td>\n",
       "    </tr>\n",
       "  </tbody>\n",
       "</table>\n",
       "<p>48066 rows × 3 columns</p>\n",
       "</div>"
      ],
      "text/plain": [
       "       subject_id            cml_date            cvd_date\n",
       "0        10035631 2113-07-17 17:15:00 2112-12-04 00:00:00\n",
       "1        10035631 2113-07-17 17:15:00 2115-11-08 13:54:00\n",
       "2        10035631 2113-07-17 17:15:00 2116-02-13 11:17:00\n",
       "3        10035631 2113-07-17 17:15:00 2112-11-10 15:55:00\n",
       "4        10035631 2113-07-17 17:15:00 2112-10-22 00:00:00\n",
       "...           ...                 ...                 ...\n",
       "48061    19912102 2183-06-16 22:40:00 2185-08-16 01:21:00\n",
       "48062    19922600 2131-01-04 19:55:00 2127-12-13 12:03:00\n",
       "48063    19922600 2131-01-04 19:55:00 2127-09-20 13:46:00\n",
       "48064    19922600 2131-01-04 19:55:00 2130-12-18 01:08:00\n",
       "48065    19922600 2131-01-04 19:55:00 2131-01-04 19:55:00\n",
       "\n",
       "[48066 rows x 3 columns]"
      ]
     },
     "execution_count": 78,
     "metadata": {},
     "output_type": "execute_result"
    }
   ],
   "source": [
    "cml_cvd"
   ]
  },
  {
   "cell_type": "code",
   "execution_count": 79,
   "metadata": {},
   "outputs": [
    {
     "data": {
      "text/plain": [
       "946"
      ]
     },
     "execution_count": 79,
     "metadata": {},
     "output_type": "execute_result"
    }
   ],
   "source": [
    "### check if all CML patients are in the merged table\n",
    "cml[cml['subject_id'].isin(cml_cvd['subject_id'].unique())]['subject_id'].nunique()"
   ]
  },
  {
   "cell_type": "code",
   "execution_count": 80,
   "metadata": {},
   "outputs": [],
   "source": [
    "cml_cvd['has_future_cvd'] = (cml_cvd['cvd_date'] > cml_cvd['cml_date']).astype(int)\n",
    "cml_cvd['has_immediate_cvd'] = (cml_cvd['cvd_date'] == cml_cvd['cml_date']).astype(int)\n",
    "cml_cvd['has_cvd'] = (cml_cvd['cvd_date'] >= cml_cvd['cml_date']).astype(int)\n",
    "cml_cvd['has_cvd_before_cml'] = (cml_cvd['cvd_date'] < cml_cvd['cml_date']).astype(int)\n",
    "### Calculate the durations (by months) between CVD diagnosis and CML diagnosis\n",
    "cml_cvd['duration_cvd'] = (cml_cvd['cvd_date']-cml_cvd['cml_date']).dt.days / 30.44"
   ]
  },
  {
   "cell_type": "code",
   "execution_count": 81,
   "metadata": {},
   "outputs": [
    {
     "name": "stdout",
     "output_type": "stream",
     "text": [
      "Patients got CVD after CML: \n",
      "1    593\n",
      "0    353\n",
      "Name: has_future_cvd, dtype: int64\n",
      "Patients got CVD with CML: \n",
      "1    946\n",
      "Name: has_immediate_cvd, dtype: int64\n",
      "Patients got CVD before CML: \n",
      "1    659\n",
      "0    287\n",
      "Name: has_cvd_before_cml, dtype: int64\n",
      "Patients got CVD after or with CML: \n",
      "1    946\n",
      "Name: has_cvd, dtype: int64\n",
      "Patients NO CVD with CML: \n",
      "0\n"
     ]
    }
   ],
   "source": [
    "labels_has_future_cvd = cml_cvd.groupby('subject_id')['has_future_cvd'].max().reset_index()\n",
    "labels_has_immediate_cvd = cml_cvd.groupby('subject_id')['has_immediate_cvd'].max().reset_index()\n",
    "labels_has_cvd = cml_cvd.groupby('subject_id')['has_cvd'].max().reset_index()\n",
    "labels_has_cvd_before_cml = cml_cvd.groupby('subject_id')['has_cvd_before_cml'].max().reset_index()\n",
    "cml_cvd_duration = cml_cvd.groupby('subject_id')['duration_cvd'].min().reset_index()\n",
    "\n",
    "print(f\"Patients got CVD after CML: \\n{labels_has_future_cvd.has_future_cvd.value_counts()}\")\n",
    "print(f\"Patients got CVD with CML: \\n{labels_has_immediate_cvd.has_immediate_cvd.value_counts()}\")\n",
    "print(f\"Patients got CVD before CML: \\n{labels_has_cvd_before_cml.has_cvd_before_cml.value_counts()}\")\n",
    "print(f\"Patients got CVD after or with CML: \\n{labels_has_cvd.has_cvd.value_counts()}\")\n",
    "print(f\"Patients NO CVD with CML: \\n{cml_cvd_duration['duration_cvd'].isnull().sum()}\")"
   ]
  },
  {
   "cell_type": "code",
   "execution_count": null,
   "metadata": {},
   "outputs": [],
   "source": [
    "diag_cml_labeled = diag_cml.merge(labels_has_cvd, on='subject_id', how='left')\n",
    "diag_cml_labeled = diag_cml_labeled.merge(cml_cvd_duration, on='subject_id', how='left')"
   ]
  },
  {
   "cell_type": "code",
   "execution_count": null,
   "metadata": {},
   "outputs": [],
   "source": [
    "diag_cml_labeled_unique = diag_cml_labeled[['subject_id', 'has_cvd', 'duration_cvd']].drop_duplicates()\n",
    "diag_cml_labeled_unique['has_cvd'].value_counts()\n",
    "# diag_cml_labeled['has_future_cvd'] = diag_cml_labeled['has_future_cvd'].fillna(0).astype(int)"
   ]
  },
  {
   "cell_type": "code",
   "execution_count": null,
   "metadata": {},
   "outputs": [],
   "source": [
    "diag_cml_labeled_unique = diag_cml_labeled_unique.merge(diag_cvd_unique, on='subject_id')\n",
    "diag_cml_labeled_unique = diag_cml_labeled_unique.reset_index(drop=True)\n",
    "diag_cml_labeled_unique"
   ]
  },
  {
   "cell_type": "code",
   "execution_count": null,
   "metadata": {},
   "outputs": [],
   "source": [
    "cml[cml['subject_id'].isin(diag_cvd_unique['subject_id'].unique())]['subject_id'].nunique()"
   ]
  },
  {
   "cell_type": "code",
   "execution_count": null,
   "metadata": {},
   "outputs": [],
   "source": [
    "diag_cml_labeled_unique['has_cvd'].value_counts()"
   ]
  },
  {
   "cell_type": "code",
   "execution_count": null,
   "metadata": {},
   "outputs": [],
   "source": [
    "from pywaffle import Waffle\n",
    "\n",
    "values = diag_cml_labeled_unique['has_cvd'].value_counts().to_dict()\n",
    "\n",
    "fig = plt.figure(\n",
    "    FigureClass=Waffle,\n",
    "    rows=5,\n",
    "    values=values,\n",
    "    colors=[\"#d8562f\", \"#8cd82f\"],\n",
    "    block_arranging_style='snake',\n",
    "    figsize=(15, 10),\n",
    "    legend={\n",
    "        'loc': 'upper left',\n",
    "        'bbox_to_anchor': (1, 1),\n",
    "        'fontsize': 12,\n",
    "        'title': 'CVD Status'\n",
    "    }\n",
    ")\n"
   ]
  },
  {
   "cell_type": "markdown",
   "metadata": {},
   "source": [
    "## Loading and Preprosessing Labevents data"
   ]
  },
  {
   "cell_type": "code",
   "execution_count": null,
   "metadata": {},
   "outputs": [],
   "source": [
    "lab = pd.read_csv(r'C:\\Users\\Yahya\\Documents\\GitHub\\Internship\\CSV_files\\labevents_combined.csv')"
   ]
  },
  {
   "cell_type": "code",
   "execution_count": null,
   "metadata": {},
   "outputs": [],
   "source": [
    "diag_cml_lab = diag_cml_labeled_unique.merge(lab, on=['subject_id'])"
   ]
  },
  {
   "cell_type": "code",
   "execution_count": null,
   "metadata": {},
   "outputs": [],
   "source": [
    "diag_cml_lab = diag_cml_lab.reset_index(drop=True)"
   ]
  },
  {
   "cell_type": "code",
   "execution_count": null,
   "metadata": {},
   "outputs": [],
   "source": [
    "diag_cml_lab = diag_cml_lab.drop(columns=['hadm_id', 'charttime'])"
   ]
  },
  {
   "cell_type": "code",
   "execution_count": null,
   "metadata": {},
   "outputs": [],
   "source": [
    "diag_cml_lab = diag_cml_lab.drop_duplicates()"
   ]
  },
  {
   "cell_type": "code",
   "execution_count": null,
   "metadata": {},
   "outputs": [],
   "source": [
    "diag_cml_lab"
   ]
  },
  {
   "cell_type": "markdown",
   "metadata": {},
   "source": [
    "## Loading and Preprosessing Pharmacy data"
   ]
  },
  {
   "cell_type": "code",
   "execution_count": null,
   "metadata": {},
   "outputs": [],
   "source": [
    "pharm = pd.read_csv(r'C:\\Users\\Yahya\\Documents\\GitHub\\Internship\\CSV_files\\pharmacy_table.csv')"
   ]
  },
  {
   "cell_type": "code",
   "execution_count": null,
   "metadata": {},
   "outputs": [],
   "source": [
    "pharm.rename(columns={'duration':'duration_med'}, inplace=True)"
   ]
  },
  {
   "cell_type": "code",
   "execution_count": null,
   "metadata": {},
   "outputs": [],
   "source": [
    "pharm = pharm.drop(columns=['starttime', 'stoptime', 'hadm_id'])"
   ]
  },
  {
   "cell_type": "code",
   "execution_count": null,
   "metadata": {},
   "outputs": [],
   "source": [
    "drug_mapping = {\n",
    "    'imatinib': 'Imatinib',\n",
    "    'imatinib mesylate': 'Imatinib',\n",
    "    '*nf* imatinib mesylate': 'Imatinib',\n",
    "    'imatinib oral suspension': 'Imatinib',\n",
    "    'imatinib (gleevec)': 'Imatinib',\n",
    "    'dasatinib': 'Dasatinib',\n",
    "    'dasatinib 20mg tablet': 'Dasatinib',\n",
    "    '*nf* dasatinib': 'Dasatinib',\n",
    "    'ruxolitinib': 'Ruxolitinib',\n",
    "    'inv-ruxolitinib': 'Ruxolitinib',\n",
    "    'nilotinib': 'Nilotinib',\n",
    "    '*nf* nilotinib': 'Nilotinib',\n",
    "    'cabozantinib': 'Cabozantinib',\n",
    "    'inv-cabozatinib': 'Cabozantinib',\n",
    "    'ruxolitinib ':'Ruxolitinib',\n",
    "    'inv-cabozantinib (cabozantinib)': 'Cabozantinib',\n",
    "    'crizotinib': 'Crizotinib'\n",
    "}"
   ]
  },
  {
   "cell_type": "code",
   "execution_count": null,
   "metadata": {},
   "outputs": [],
   "source": [
    "pharm['medication_norm'] = pharm['medication'].str.lower().map(drug_mapping)\n"
   ]
  },
  {
   "cell_type": "code",
   "execution_count": null,
   "metadata": {},
   "outputs": [],
   "source": [
    "pharm['medication_norm'].value_counts(dropna=False)"
   ]
  },
  {
   "cell_type": "code",
   "execution_count": null,
   "metadata": {},
   "outputs": [],
   "source": [
    "doses = pd.read_csv(r'C:\\Users\\Yahya\\Documents\\GitHub\\Internship\\CSV_files\\drug_doses.csv')\n",
    "doses"
   ]
  },
  {
   "cell_type": "code",
   "execution_count": null,
   "metadata": {},
   "outputs": [],
   "source": [
    "doses.rename(columns={'dose_val_rx': 'prescribed_dose'}, inplace=True)"
   ]
  },
  {
   "cell_type": "code",
   "execution_count": null,
   "metadata": {},
   "outputs": [],
   "source": [
    "doses['medication_norm'] = doses['drug'].str.lower().map(drug_mapping)"
   ]
  },
  {
   "cell_type": "code",
   "execution_count": null,
   "metadata": {},
   "outputs": [],
   "source": [
    "doses"
   ]
  },
  {
   "cell_type": "code",
   "execution_count": null,
   "metadata": {},
   "outputs": [],
   "source": [
    "pharm = pharm.merge(\n",
    "    doses[['subject_id', 'medication_norm', 'prescribed_dose']],\n",
    "    how='left',\n",
    "    on=['subject_id', 'medication_norm']\n",
    ")"
   ]
  },
  {
   "cell_type": "code",
   "execution_count": null,
   "metadata": {},
   "outputs": [],
   "source": [
    "pharm"
   ]
  },
  {
   "cell_type": "code",
   "execution_count": null,
   "metadata": {},
   "outputs": [],
   "source": [
    "pharm_dummies = pd.get_dummies(pharm['medication_norm'])"
   ]
  },
  {
   "cell_type": "code",
   "execution_count": null,
   "metadata": {},
   "outputs": [],
   "source": [
    "pharm = pd.concat([pharm, pharm_dummies], axis=1)"
   ]
  },
  {
   "cell_type": "code",
   "execution_count": null,
   "metadata": {},
   "outputs": [],
   "source": [
    "pharm = pharm.drop(columns=['medication', 'medication_norm'])\n",
    "pharm = pharm.reset_index(drop=True)"
   ]
  },
  {
   "cell_type": "code",
   "execution_count": null,
   "metadata": {},
   "outputs": [],
   "source": [
    "pharm[['Cabozantinib', 'Crizotinib', 'Dasatinib', 'Imatinib', 'Nilotinib', 'Ruxolitinib']].value_counts()"
   ]
  },
  {
   "cell_type": "code",
   "execution_count": null,
   "metadata": {},
   "outputs": [],
   "source": [
    "pharm_diag = diag_cml_labeled_unique.merge(pharm, on=['subject_id'])"
   ]
  },
  {
   "cell_type": "code",
   "execution_count": null,
   "metadata": {},
   "outputs": [],
   "source": [
    "pharm = pharm_diag.drop_duplicates()"
   ]
  },
  {
   "cell_type": "code",
   "execution_count": null,
   "metadata": {},
   "outputs": [],
   "source": [
    "pharm"
   ]
  },
  {
   "cell_type": "code",
   "execution_count": null,
   "metadata": {},
   "outputs": [],
   "source": [
    "import gc\n",
    "\n",
    "gc.collect()"
   ]
  },
  {
   "cell_type": "code",
   "execution_count": null,
   "metadata": {},
   "outputs": [],
   "source": [
    "diag_cml_lab.to_csv(r'C:\\Users\\Yahya\\Documents\\GitHub\\Internship\\CSV_files\\diag_cml_lab')"
   ]
  },
  {
   "cell_type": "code",
   "execution_count": null,
   "metadata": {},
   "outputs": [],
   "source": [
    "pharm.to_csv(r'C:\\Users\\Yahya\\Documents\\GitHub\\Internship\\CSV_files\\pharm')"
   ]
  }
 ],
 "metadata": {
  "colab": {
   "authorship_tag": "ABX9TyOT770SCaFK/4urxotTOhPa",
   "provenance": []
  },
  "kernelspec": {
   "display_name": "venv",
   "language": "python",
   "name": "python3"
  },
  "language_info": {
   "codemirror_mode": {
    "name": "ipython",
    "version": 3
   },
   "file_extension": ".py",
   "mimetype": "text/x-python",
   "name": "python",
   "nbconvert_exporter": "python",
   "pygments_lexer": "ipython3",
   "version": "3.7.1"
  }
 },
 "nbformat": 4,
 "nbformat_minor": 0
}
